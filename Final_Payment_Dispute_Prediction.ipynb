{
 "cells": [
  {
   "cell_type": "markdown",
   "metadata": {},
   "source": [
    "# Prediction on whether a payment by a company to a medical doctor or facility was made part of the project or not "
   ]
  },
  {
   "cell_type": "markdown",
   "metadata": {},
   "source": [
    "### Data Importing and Summary"
   ]
  },
  {
   "cell_type": "code",
   "execution_count": 41,
   "metadata": {},
   "outputs": [],
   "source": [
    "import pandas as pd \n",
    "import numpy as np\n",
    "from sklearn.model_selection import train_test_split\n",
    "import matplotlib.pyplot as plt\n",
    "import warnings\n",
    "warnings.filterwarnings('ignore')\n",
    "\n",
    "Research=pd.read_csv(\"../HW3/PGYR17_P011819/OP_DTL_RSRCH_PGYR2017_P01182019.csv\", index_col=\"Record_ID\")\n",
    "General= pd.read_csv('../HW3/PGYR17_P011819/OP_DTL_GNRL_PGYR2017_P01182019.csv', index_col=\"Record_ID\")"
   ]
  },
  {
   "cell_type": "markdown",
   "metadata": {},
   "source": [
    "# Task 1 Identify Features"
   ]
  },
  {
   "cell_type": "code",
   "execution_count": 91,
   "metadata": {},
   "outputs": [],
   "source": [
    "Temp=(Research.isna().sum()<60000)\n",
    "Truncate_Research=Research.iloc[:,Temp.values]\n"
   ]
  },
  {
   "cell_type": "code",
   "execution_count": 92,
   "metadata": {},
   "outputs": [],
   "source": [
    "Temp=General.isna().sum()<10000000\n",
    "Truncate_General=General.iloc[:,Temp.values]"
   ]
  },
  {
   "cell_type": "code",
   "execution_count": 93,
   "metadata": {},
   "outputs": [],
   "source": [
    "common=set(Truncate_General).intersection(set(Truncate_Research))"
   ]
  },
  {
   "cell_type": "code",
   "execution_count": 94,
   "metadata": {},
   "outputs": [
    {
     "data": {
      "text/plain": [
       "(602530, 32)"
      ]
     },
     "execution_count": 94,
     "metadata": {},
     "output_type": "execute_result"
    }
   ],
   "source": [
    "Truncate_Research.shape"
   ]
  },
  {
   "cell_type": "code",
   "execution_count": 95,
   "metadata": {},
   "outputs": [
    {
     "data": {
      "text/plain": [
       "(10663833, 49)"
      ]
     },
     "execution_count": 95,
     "metadata": {},
     "output_type": "execute_result"
    }
   ],
   "source": [
    "Truncate_General.shape"
   ]
  },
  {
   "cell_type": "code",
   "execution_count": 96,
   "metadata": {},
   "outputs": [
    {
     "data": {
      "text/plain": [
       "19"
      ]
     },
     "execution_count": 96,
     "metadata": {},
     "output_type": "execute_result"
    }
   ],
   "source": [
    "len(common)"
   ]
  },
  {
   "cell_type": "code",
   "execution_count": 97,
   "metadata": {},
   "outputs": [],
   "source": [
    "Research_common=Truncate_Research[list(common)]"
   ]
  },
  {
   "cell_type": "code",
   "execution_count": 103,
   "metadata": {},
   "outputs": [],
   "source": [
    "General_common=Truncate_General[list(common)]"
   ]
  },
  {
   "cell_type": "code",
   "execution_count": 104,
   "metadata": {},
   "outputs": [
    {
     "data": {
      "text/plain": [
       "(10663833, 19)"
      ]
     },
     "execution_count": 104,
     "metadata": {},
     "output_type": "execute_result"
    }
   ],
   "source": [
    "General_common.shape"
   ]
  },
  {
   "cell_type": "code",
   "execution_count": 105,
   "metadata": {},
   "outputs": [
    {
     "data": {
      "text/plain": [
       "(602530, 19)"
      ]
     },
     "execution_count": 105,
     "metadata": {},
     "output_type": "execute_result"
    }
   ],
   "source": [
    "Research_common.shape"
   ]
  },
  {
   "cell_type": "code",
   "execution_count": 106,
   "metadata": {},
   "outputs": [],
   "source": [
    "### Mearge data \n",
    "data=pd.concat([General_common, Research_common], verify_integrity=True)"
   ]
  },
  {
   "cell_type": "code",
   "execution_count": 107,
   "metadata": {},
   "outputs": [],
   "source": [
    "# Add Target to the data \n",
    "Target=[0]*len(General_common)+[1]*len(Research_common)\n",
    "data['Target']=Target"
   ]
  },
  {
   "cell_type": "code",
   "execution_count": 108,
   "metadata": {},
   "outputs": [
    {
     "data": {
      "text/plain": [
       "(11266363, 20)"
      ]
     },
     "execution_count": 108,
     "metadata": {},
     "output_type": "execute_result"
    }
   ],
   "source": [
    "data.shape"
   ]
  },
  {
   "cell_type": "code",
   "execution_count": 109,
   "metadata": {},
   "outputs": [
    {
     "data": {
      "text/plain": [
       "Index(['Related_Product_Indicator', 'Dispute_Status_for_Publication',\n",
       "       'Recipient_Zip_Code', 'Date_of_Payment', 'Covered_Recipient_Type',\n",
       "       'Recipient_State', 'Recipient_Country',\n",
       "       'Recipient_Primary_Business_Street_Address_Line1', 'Program_Year',\n",
       "       'Delay_in_Publication_Indicator', 'Payment_Publication_Date',\n",
       "       'Recipient_City',\n",
       "       'Applicable_Manufacturer_or_Applicable_GPO_Making_Payment_Country',\n",
       "       'Applicable_Manufacturer_or_Applicable_GPO_Making_Payment_Name',\n",
       "       'Change_Type', 'Form_of_Payment_or_Transfer_of_Value',\n",
       "       'Submitting_Applicable_Manufacturer_or_Applicable_GPO_Name',\n",
       "       'Total_Amount_of_Payment_USDollars',\n",
       "       'Applicable_Manufacturer_or_Applicable_GPO_Making_Payment_ID',\n",
       "       'Target'],\n",
       "      dtype='object')"
      ]
     },
     "execution_count": 109,
     "metadata": {},
     "output_type": "execute_result"
    }
   ],
   "source": [
    "data.columns"
   ]
  },
  {
   "cell_type": "code",
   "execution_count": 135,
   "metadata": {},
   "outputs": [],
   "source": [
    "data.to_csv(\"./DATA.csv\")"
   ]
  },
  {
   "cell_type": "markdown",
   "metadata": {},
   "source": [
    "The first step after loading the data we delete the columns in each file with more than 90% missing values.\n",
    "Second, we intersect the two files and use the common features of two classes as candidate features.\n",
    "Third, we merge two files together and add a target column in the dataframe. We assign the minority as positive 1, and the majority as negative 0. \n",
    "\n",
    "After preliminary processing we found:\n",
    "\n",
    "The dataset is highly skewed about 5:95 \n",
    "\n",
    "The usable dataset size is 11266363 and have 20 features. "
   ]
  },
  {
   "cell_type": "markdown",
   "metadata": {},
   "source": [
    "### Data exploration "
   ]
  },
  {
   "cell_type": "code",
   "execution_count": 136,
   "metadata": {},
   "outputs": [],
   "source": [
    "data=pd.read_csv(\"./DATA.csv\")\n",
    "#data['Applicable_Manufacturer_or_Applicable_GPO_Making_Payment_ID']=data['Applicable_Manufacturer_or_Applicable_GPO_Making_Payment_ID'].astype(str)"
   ]
  },
  {
   "cell_type": "code",
   "execution_count": 137,
   "metadata": {},
   "outputs": [
    {
     "data": {
      "text/plain": [
       "count    6.025300e+05\n",
       "mean     7.568244e+03\n",
       "std      1.148221e+05\n",
       "min      1.000000e-02\n",
       "25%      1.420000e+02\n",
       "50%      8.089200e+02\n",
       "75%      3.266910e+03\n",
       "max      5.910413e+07\n",
       "Name: Total_Amount_of_Payment_USDollars, dtype: float64"
      ]
     },
     "execution_count": 137,
     "metadata": {},
     "output_type": "execute_result"
    }
   ],
   "source": [
    "D=data.loc[:,data.dtypes!= object]\n",
    "D_R=D.iloc[list((D['Target']==1).values),:]\n",
    "D_R['Total_Amount_of_Payment_USDollars'].describe()"
   ]
  },
  {
   "cell_type": "code",
   "execution_count": 138,
   "metadata": {},
   "outputs": [
    {
     "data": {
      "text/plain": [
       "count    1.066383e+07\n",
       "mean     2.638836e+02\n",
       "std      2.213081e+04\n",
       "min      1.000000e-02\n",
       "25%      1.154000e+01\n",
       "50%      1.565000e+01\n",
       "75%      2.454000e+01\n",
       "max      2.684237e+07\n",
       "Name: Total_Amount_of_Payment_USDollars, dtype: float64"
      ]
     },
     "execution_count": 138,
     "metadata": {},
     "output_type": "execute_result"
    }
   ],
   "source": [
    "D=data.loc[:,data.dtypes!= object]\n",
    "D_G=D.iloc[list((D['Target']==0).values),:]\n",
    "D_G['Total_Amount_of_Payment_USDollars'].describe()"
   ]
  },
  {
   "cell_type": "code",
   "execution_count": 140,
   "metadata": {},
   "outputs": [],
   "source": [
    "from sklearn.model_selection import train_test_split\n",
    "y=data['Target'].values\n",
    "X_train, X_test, y_train, y_test = train_test_split(data,y, stratify=y,test_size=0.01,shuffle=True)"
   ]
  },
  {
   "cell_type": "code",
   "execution_count": 141,
   "metadata": {},
   "outputs": [],
   "source": [
    "X_test.to_csv(\"./t1.csv\",index=False )"
   ]
  },
  {
   "cell_type": "code",
   "execution_count": 142,
   "metadata": {},
   "outputs": [],
   "source": [
    "import pandas as pd \n",
    "import numpy as np\n",
    "X_test=pd.read_csv(\"./t1.csv\")\n",
    "X_test=X_test.drop(columns='Recipient_Primary_Business_Street_Address_Line1')\n",
    "# Information leakage!!!!!\n",
    "X_test=X_test.drop(columns='Change_Type')"
   ]
  },
  {
   "cell_type": "code",
   "execution_count": 143,
   "metadata": {},
   "outputs": [
    {
     "data": {
      "text/html": [
       "<div>\n",
       "<style scoped>\n",
       "    .dataframe tbody tr th:only-of-type {\n",
       "        vertical-align: middle;\n",
       "    }\n",
       "\n",
       "    .dataframe tbody tr th {\n",
       "        vertical-align: top;\n",
       "    }\n",
       "\n",
       "    .dataframe thead th {\n",
       "        text-align: right;\n",
       "    }\n",
       "</style>\n",
       "<table border=\"1\" class=\"dataframe\">\n",
       "  <thead>\n",
       "    <tr style=\"text-align: right;\">\n",
       "      <th></th>\n",
       "      <th>Record_ID</th>\n",
       "      <th>Related_Product_Indicator</th>\n",
       "      <th>Dispute_Status_for_Publication</th>\n",
       "      <th>Recipient_Zip_Code</th>\n",
       "      <th>Date_of_Payment</th>\n",
       "      <th>Covered_Recipient_Type</th>\n",
       "      <th>Recipient_State</th>\n",
       "      <th>Recipient_Country</th>\n",
       "      <th>Program_Year</th>\n",
       "      <th>Delay_in_Publication_Indicator</th>\n",
       "      <th>Payment_Publication_Date</th>\n",
       "      <th>Recipient_City</th>\n",
       "      <th>Applicable_Manufacturer_or_Applicable_GPO_Making_Payment_Country</th>\n",
       "      <th>Applicable_Manufacturer_or_Applicable_GPO_Making_Payment_Name</th>\n",
       "      <th>Form_of_Payment_or_Transfer_of_Value</th>\n",
       "      <th>Submitting_Applicable_Manufacturer_or_Applicable_GPO_Name</th>\n",
       "      <th>Total_Amount_of_Payment_USDollars</th>\n",
       "      <th>Applicable_Manufacturer_or_Applicable_GPO_Making_Payment_ID</th>\n",
       "      <th>Target</th>\n",
       "    </tr>\n",
       "  </thead>\n",
       "  <tbody>\n",
       "    <tr>\n",
       "      <th>0</th>\n",
       "      <td>487611419</td>\n",
       "      <td>Yes</td>\n",
       "      <td>No</td>\n",
       "      <td>35660-4020</td>\n",
       "      <td>10/26/2017</td>\n",
       "      <td>Covered Recipient Physician</td>\n",
       "      <td>AL</td>\n",
       "      <td>United States</td>\n",
       "      <td>2017</td>\n",
       "      <td>No</td>\n",
       "      <td>01/18/2019</td>\n",
       "      <td>SHEFFIELD</td>\n",
       "      <td>United States</td>\n",
       "      <td>SANOFI-AVENTIS U.S. LLC</td>\n",
       "      <td>In-kind items and services</td>\n",
       "      <td>Sanofi and Genzyme US Companies</td>\n",
       "      <td>12.39</td>\n",
       "      <td>100000000076</td>\n",
       "      <td>0</td>\n",
       "    </tr>\n",
       "    <tr>\n",
       "      <th>1</th>\n",
       "      <td>471768577</td>\n",
       "      <td>Yes</td>\n",
       "      <td>No</td>\n",
       "      <td>93726-4040</td>\n",
       "      <td>01/16/2017</td>\n",
       "      <td>Covered Recipient Physician</td>\n",
       "      <td>CA</td>\n",
       "      <td>United States</td>\n",
       "      <td>2017</td>\n",
       "      <td>No</td>\n",
       "      <td>01/18/2019</td>\n",
       "      <td>FRESNO</td>\n",
       "      <td>United States</td>\n",
       "      <td>AbbVie, Inc.</td>\n",
       "      <td>In-kind items and services</td>\n",
       "      <td>AbbVie, Inc.</td>\n",
       "      <td>11.47</td>\n",
       "      <td>100000000204</td>\n",
       "      <td>0</td>\n",
       "    </tr>\n",
       "    <tr>\n",
       "      <th>2</th>\n",
       "      <td>457280615</td>\n",
       "      <td>Yes</td>\n",
       "      <td>No</td>\n",
       "      <td>28144</td>\n",
       "      <td>11/28/2017</td>\n",
       "      <td>Covered Recipient Physician</td>\n",
       "      <td>NC</td>\n",
       "      <td>United States</td>\n",
       "      <td>2017</td>\n",
       "      <td>No</td>\n",
       "      <td>01/18/2019</td>\n",
       "      <td>SALISBURY</td>\n",
       "      <td>United States</td>\n",
       "      <td>Lilly USA, LLC</td>\n",
       "      <td>In-kind items and services</td>\n",
       "      <td>Eli Lilly and Company</td>\n",
       "      <td>11.90</td>\n",
       "      <td>100000000066</td>\n",
       "      <td>0</td>\n",
       "    </tr>\n",
       "    <tr>\n",
       "      <th>3</th>\n",
       "      <td>432020625</td>\n",
       "      <td>Yes</td>\n",
       "      <td>No</td>\n",
       "      <td>23229</td>\n",
       "      <td>11/08/2017</td>\n",
       "      <td>Covered Recipient Physician</td>\n",
       "      <td>VA</td>\n",
       "      <td>United States</td>\n",
       "      <td>2017</td>\n",
       "      <td>No</td>\n",
       "      <td>01/18/2019</td>\n",
       "      <td>HENRICO</td>\n",
       "      <td>United States</td>\n",
       "      <td>ZOLL Services LLC (A/K/A ZOLL LifeCor Corp)</td>\n",
       "      <td>Cash or cash equivalent</td>\n",
       "      <td>ZOLL Services LLC (A/K/A ZOLL LifeCor Corp)</td>\n",
       "      <td>16.57</td>\n",
       "      <td>100000000178</td>\n",
       "      <td>0</td>\n",
       "    </tr>\n",
       "    <tr>\n",
       "      <th>4</th>\n",
       "      <td>454922889</td>\n",
       "      <td>Yes</td>\n",
       "      <td>No</td>\n",
       "      <td>8037</td>\n",
       "      <td>11/21/2017</td>\n",
       "      <td>Covered Recipient Physician</td>\n",
       "      <td>NJ</td>\n",
       "      <td>United States</td>\n",
       "      <td>2017</td>\n",
       "      <td>No</td>\n",
       "      <td>01/18/2019</td>\n",
       "      <td>HAMMONTON</td>\n",
       "      <td>United States</td>\n",
       "      <td>Collegium Pharmaceutical, Inc.</td>\n",
       "      <td>Cash or cash equivalent</td>\n",
       "      <td>Collegium Pharmaceutical, Inc.</td>\n",
       "      <td>11.95</td>\n",
       "      <td>100000151565</td>\n",
       "      <td>0</td>\n",
       "    </tr>\n",
       "  </tbody>\n",
       "</table>\n",
       "</div>"
      ],
      "text/plain": [
       "   Record_ID Related_Product_Indicator Dispute_Status_for_Publication  \\\n",
       "0  487611419                       Yes                             No   \n",
       "1  471768577                       Yes                             No   \n",
       "2  457280615                       Yes                             No   \n",
       "3  432020625                       Yes                             No   \n",
       "4  454922889                       Yes                             No   \n",
       "\n",
       "  Recipient_Zip_Code Date_of_Payment       Covered_Recipient_Type  \\\n",
       "0         35660-4020      10/26/2017  Covered Recipient Physician   \n",
       "1         93726-4040      01/16/2017  Covered Recipient Physician   \n",
       "2              28144      11/28/2017  Covered Recipient Physician   \n",
       "3              23229      11/08/2017  Covered Recipient Physician   \n",
       "4               8037      11/21/2017  Covered Recipient Physician   \n",
       "\n",
       "  Recipient_State Recipient_Country  Program_Year  \\\n",
       "0              AL     United States          2017   \n",
       "1              CA     United States          2017   \n",
       "2              NC     United States          2017   \n",
       "3              VA     United States          2017   \n",
       "4              NJ     United States          2017   \n",
       "\n",
       "  Delay_in_Publication_Indicator Payment_Publication_Date Recipient_City  \\\n",
       "0                             No               01/18/2019      SHEFFIELD   \n",
       "1                             No               01/18/2019         FRESNO   \n",
       "2                             No               01/18/2019      SALISBURY   \n",
       "3                             No               01/18/2019        HENRICO   \n",
       "4                             No               01/18/2019      HAMMONTON   \n",
       "\n",
       "  Applicable_Manufacturer_or_Applicable_GPO_Making_Payment_Country  \\\n",
       "0                                      United States                 \n",
       "1                                      United States                 \n",
       "2                                      United States                 \n",
       "3                                      United States                 \n",
       "4                                      United States                 \n",
       "\n",
       "  Applicable_Manufacturer_or_Applicable_GPO_Making_Payment_Name  \\\n",
       "0                            SANOFI-AVENTIS U.S. LLC              \n",
       "1                                       AbbVie, Inc.              \n",
       "2                                     Lilly USA, LLC              \n",
       "3        ZOLL Services LLC (A/K/A ZOLL LifeCor Corp)              \n",
       "4                     Collegium Pharmaceutical, Inc.              \n",
       "\n",
       "  Form_of_Payment_or_Transfer_of_Value  \\\n",
       "0           In-kind items and services   \n",
       "1           In-kind items and services   \n",
       "2           In-kind items and services   \n",
       "3              Cash or cash equivalent   \n",
       "4              Cash or cash equivalent   \n",
       "\n",
       "  Submitting_Applicable_Manufacturer_or_Applicable_GPO_Name  \\\n",
       "0                    Sanofi and Genzyme US Companies          \n",
       "1                                       AbbVie, Inc.          \n",
       "2                              Eli Lilly and Company          \n",
       "3        ZOLL Services LLC (A/K/A ZOLL LifeCor Corp)          \n",
       "4                     Collegium Pharmaceutical, Inc.          \n",
       "\n",
       "   Total_Amount_of_Payment_USDollars  \\\n",
       "0                              12.39   \n",
       "1                              11.47   \n",
       "2                              11.90   \n",
       "3                              16.57   \n",
       "4                              11.95   \n",
       "\n",
       "   Applicable_Manufacturer_or_Applicable_GPO_Making_Payment_ID  Target  \n",
       "0                                       100000000076                 0  \n",
       "1                                       100000000204                 0  \n",
       "2                                       100000000066                 0  \n",
       "3                                       100000000178                 0  \n",
       "4                                       100000151565                 0  "
      ]
     },
     "execution_count": 143,
     "metadata": {},
     "output_type": "execute_result"
    }
   ],
   "source": [
    "X_test.head()"
   ]
  },
  {
   "cell_type": "code",
   "execution_count": 144,
   "metadata": {},
   "outputs": [],
   "source": [
    "Data_cat=X_test.loc[:,X_test.dtypes== object]\n",
    "Data_con=X_test.loc[:,X_test.dtypes!= object]"
   ]
  },
  {
   "cell_type": "code",
   "execution_count": 145,
   "metadata": {},
   "outputs": [
    {
     "data": {
      "text/plain": [
       "['Record_ID',\n",
       " 'Program_Year',\n",
       " 'Total_Amount_of_Payment_USDollars',\n",
       " 'Applicable_Manufacturer_or_Applicable_GPO_Making_Payment_ID',\n",
       " 'Target']"
      ]
     },
     "execution_count": 145,
     "metadata": {},
     "output_type": "execute_result"
    }
   ],
   "source": [
    "list(Data_con)"
   ]
  },
  {
   "cell_type": "markdown",
   "metadata": {},
   "source": [
    "There are 5 columns having continous data type. After reading documents, 'Record_ID' is unique for every row, 'Program_Year' is all the same for every payment, 'Target' is our prediction target, so the only useful continous feature kept is 'Total_Amount_of_Payment_USDollars' "
   ]
  },
  {
   "cell_type": "code",
   "execution_count": 146,
   "metadata": {},
   "outputs": [
    {
     "data": {
      "text/plain": [
       "count    6.025000e+03\n",
       "mean     6.964667e+03\n",
       "std      3.344510e+04\n",
       "min      1.500000e-01\n",
       "25%      1.422000e+02\n",
       "50%      8.000000e+02\n",
       "75%      3.462000e+03\n",
       "max      1.253938e+06\n",
       "Name: Total_Amount_of_Payment_USDollars, dtype: float64"
      ]
     },
     "execution_count": 146,
     "metadata": {},
     "output_type": "execute_result"
    }
   ],
   "source": [
    "Data_con_R=Data_con.iloc[list((Data_con['Target']==1).values),:]\n",
    "Data_con_R['Total_Amount_of_Payment_USDollars'].describe()"
   ]
  },
  {
   "cell_type": "code",
   "execution_count": 147,
   "metadata": {},
   "outputs": [
    {
     "data": {
      "text/plain": [
       "count    1.066390e+05\n",
       "mean     2.302577e+02\n",
       "std      7.839942e+03\n",
       "min      1.000000e-02\n",
       "25%      1.156000e+01\n",
       "50%      1.564000e+01\n",
       "75%      2.449000e+01\n",
       "max      1.787686e+06\n",
       "Name: Total_Amount_of_Payment_USDollars, dtype: float64"
      ]
     },
     "execution_count": 147,
     "metadata": {},
     "output_type": "execute_result"
    }
   ],
   "source": [
    "Data_con_G=Data_con.iloc[list((Data_con['Target']==0).values),:]\n",
    "Data_con_G['Total_Amount_of_Payment_USDollars'].describe()"
   ]
  },
  {
   "cell_type": "markdown",
   "metadata": {},
   "source": [
    "After sumarizing the 'Total_Amount_of_Payment_USDollars' between 'General' and 'Research', we found the two classes have different distribution, for example the mean for 'Research' is significantly higher than 'General', so we expect this feature should be a good indicator of our target."
   ]
  },
  {
   "cell_type": "markdown",
   "metadata": {},
   "source": [
    "### Visualize Category data "
   ]
  },
  {
   "cell_type": "code",
   "execution_count": 148,
   "metadata": {},
   "outputs": [
    {
     "data": {
      "image/png": "[encoded data removed]",
      "text/plain": [
       "<Figure size 2160x2160 with 16 Axes>"
      ]
     },
     "metadata": {
      "needs_background": "light"
     },
     "output_type": "display_data"
    }
   ],
   "source": [
    "head=list(Data_cat)\n",
    "Data_cat_R=Data_cat.iloc[list((Data_con['Target']==1).values),:].astype(str)\n",
    "Data_cat_G=Data_cat.iloc[list((Data_con['Target']==0).values),:].astype(str)\n",
    "fig, axes = plt.subplots(4, 4, figsize=(30, 30))\n",
    "for i, ax in enumerate(axes.ravel()):\n",
    "    if i>=len(head):\n",
    "        break\n",
    "    j=head[i]\n",
    "    ax.set_title(\"{}\".format(j))\n",
    "    if len(Data_cat_G.iloc[:,i].value_counts()/len(Data_cat_G))>300:\n",
    "        continue\n",
    "    ax.plot(Data_cat_R[j].value_counts().keys(),Data_cat_R[j].value_counts().values/len(Data_cat_R),'ro',label='Research')\n",
    "    ax.plot(Data_cat_G[j].value_counts().keys(),Data_cat_G[j].value_counts().values/len(Data_cat_G),'bo',label='General')\n",
    "    ax.legend()\n",
    "    #ax.set_title(\"{}\".format(j))"
   ]
  },
  {
   "cell_type": "markdown",
   "metadata": {},
   "source": [
    "### Understanding the scatter plot:\n",
    "    \n",
    "The picture above plots the frequency density (frequency/class size) of each categorical feature in two classes. Intuitively, if the red dots and blue dots are far away each other then the feature should be ideal.\n",
    "\n",
    "If the categories is more than 300, they will not be shown in the figure."
   ]
  },
  {
   "cell_type": "markdown",
   "metadata": {},
   "source": [
    "### Feature Identification:\n",
    "    \n",
    "As shown in the picture, featuers such as 'Delay_in_Publication_Indicator', 'Payment_Publication_Date', 'Dispute_Status_for_Publication'are all the same for both 'General' and 'Research', which cannot distinguish the target at all, so we remove these three features. \n",
    "\n",
    "Information leakage: \n",
    "\n",
    "After researching on the application process and reading the data dictionaries, we found that some features can only be collected after knowing the target, such as 'Covered_Recipient_Type' and 'Payment'\n",
    "\n",
    "1 'Covered_Recipient_Type' should be deleted because of leaking the information of target. \n",
    "\n",
    "2 'Change Type' also leaks information of target because records for all three payment categories (general, research, physician ownership) include a Change Type indicator that explains the record’s status relating to previous publication. \n",
    "\n",
    "3 'Date of Payment' should happen after the knowing the type of payment, so it should be deleted. \n"
   ]
  },
  {
   "cell_type": "markdown",
   "metadata": {},
   "source": [
    "# Task 2 Preprocessing and Baseline Model\n"
   ]
  },
  {
   "cell_type": "code",
   "execution_count": 149,
   "metadata": {},
   "outputs": [],
   "source": [
    "# drop irrelevant features \n",
    "head=set(Data_cat)\n",
    "features=(head-set(['Delay_in_Publication_Indicator','Payment_Publication_Date','Dispute_Status_for_Publication','Covered_Recipient_Type','Covered_Recipient_Type','Date_of_Payment'])).union(set(['Total_Amount_of_Payment_USDollars','Target','Applicable_Manufacturer_or_Applicable_GPO_Making_Payment_ID','Record_ID']))\n"
   ]
  },
  {
   "cell_type": "code",
   "execution_count": 150,
   "metadata": {},
   "outputs": [
    {
     "data": {
      "text/plain": [
       "{'Applicable_Manufacturer_or_Applicable_GPO_Making_Payment_Country',\n",
       " 'Applicable_Manufacturer_or_Applicable_GPO_Making_Payment_ID',\n",
       " 'Applicable_Manufacturer_or_Applicable_GPO_Making_Payment_Name',\n",
       " 'Form_of_Payment_or_Transfer_of_Value',\n",
       " 'Recipient_City',\n",
       " 'Recipient_Country',\n",
       " 'Recipient_State',\n",
       " 'Recipient_Zip_Code',\n",
       " 'Record_ID',\n",
       " 'Related_Product_Indicator',\n",
       " 'Submitting_Applicable_Manufacturer_or_Applicable_GPO_Name',\n",
       " 'Target',\n",
       " 'Total_Amount_of_Payment_USDollars'}"
      ]
     },
     "execution_count": 150,
     "metadata": {},
     "output_type": "execute_result"
    }
   ],
   "source": [
    "features"
   ]
  },
  {
   "cell_type": "code",
   "execution_count": 151,
   "metadata": {},
   "outputs": [],
   "source": [
    "X_test_f=X_test[features]"
   ]
  },
  {
   "cell_type": "code",
   "execution_count": 152,
   "metadata": {},
   "outputs": [],
   "source": [
    "X_test_f.to_csv(\"./X_test_f.csv\",index=False )"
   ]
  },
  {
   "cell_type": "code",
   "execution_count": 153,
   "metadata": {},
   "outputs": [],
   "source": [
    "import pandas as pd \n",
    "import numpy as np\n",
    "X_test_f=pd.read_csv(\"./X_test_f.csv\",index_col='Record_ID')"
   ]
  },
  {
   "cell_type": "code",
   "execution_count": 154,
   "metadata": {},
   "outputs": [
    {
     "data": {
      "text/html": [
       "<div>\n",
       "<style scoped>\n",
       "    .dataframe tbody tr th:only-of-type {\n",
       "        vertical-align: middle;\n",
       "    }\n",
       "\n",
       "    .dataframe tbody tr th {\n",
       "        vertical-align: top;\n",
       "    }\n",
       "\n",
       "    .dataframe thead th {\n",
       "        text-align: right;\n",
       "    }\n",
       "</style>\n",
       "<table border=\"1\" class=\"dataframe\">\n",
       "  <thead>\n",
       "    <tr style=\"text-align: right;\">\n",
       "      <th></th>\n",
       "      <th>Recipient_Country</th>\n",
       "      <th>Applicable_Manufacturer_or_Applicable_GPO_Making_Payment_Country</th>\n",
       "      <th>Form_of_Payment_or_Transfer_of_Value</th>\n",
       "      <th>Target</th>\n",
       "      <th>Submitting_Applicable_Manufacturer_or_Applicable_GPO_Name</th>\n",
       "      <th>Related_Product_Indicator</th>\n",
       "      <th>Recipient_Zip_Code</th>\n",
       "      <th>Total_Amount_of_Payment_USDollars</th>\n",
       "      <th>Applicable_Manufacturer_or_Applicable_GPO_Making_Payment_Name</th>\n",
       "      <th>Recipient_City</th>\n",
       "      <th>Applicable_Manufacturer_or_Applicable_GPO_Making_Payment_ID</th>\n",
       "      <th>Recipient_State</th>\n",
       "    </tr>\n",
       "    <tr>\n",
       "      <th>Record_ID</th>\n",
       "      <th></th>\n",
       "      <th></th>\n",
       "      <th></th>\n",
       "      <th></th>\n",
       "      <th></th>\n",
       "      <th></th>\n",
       "      <th></th>\n",
       "      <th></th>\n",
       "      <th></th>\n",
       "      <th></th>\n",
       "      <th></th>\n",
       "      <th></th>\n",
       "    </tr>\n",
       "  </thead>\n",
       "  <tbody>\n",
       "    <tr>\n",
       "      <th>487611419</th>\n",
       "      <td>United States</td>\n",
       "      <td>United States</td>\n",
       "      <td>In-kind items and services</td>\n",
       "      <td>0</td>\n",
       "      <td>Sanofi and Genzyme US Companies</td>\n",
       "      <td>Yes</td>\n",
       "      <td>35660-4020</td>\n",
       "      <td>12.39</td>\n",
       "      <td>SANOFI-AVENTIS U.S. LLC</td>\n",
       "      <td>SHEFFIELD</td>\n",
       "      <td>100000000076</td>\n",
       "      <td>AL</td>\n",
       "    </tr>\n",
       "    <tr>\n",
       "      <th>471768577</th>\n",
       "      <td>United States</td>\n",
       "      <td>United States</td>\n",
       "      <td>In-kind items and services</td>\n",
       "      <td>0</td>\n",
       "      <td>AbbVie, Inc.</td>\n",
       "      <td>Yes</td>\n",
       "      <td>93726-4040</td>\n",
       "      <td>11.47</td>\n",
       "      <td>AbbVie, Inc.</td>\n",
       "      <td>FRESNO</td>\n",
       "      <td>100000000204</td>\n",
       "      <td>CA</td>\n",
       "    </tr>\n",
       "    <tr>\n",
       "      <th>457280615</th>\n",
       "      <td>United States</td>\n",
       "      <td>United States</td>\n",
       "      <td>In-kind items and services</td>\n",
       "      <td>0</td>\n",
       "      <td>Eli Lilly and Company</td>\n",
       "      <td>Yes</td>\n",
       "      <td>28144</td>\n",
       "      <td>11.90</td>\n",
       "      <td>Lilly USA, LLC</td>\n",
       "      <td>SALISBURY</td>\n",
       "      <td>100000000066</td>\n",
       "      <td>NC</td>\n",
       "    </tr>\n",
       "    <tr>\n",
       "      <th>432020625</th>\n",
       "      <td>United States</td>\n",
       "      <td>United States</td>\n",
       "      <td>Cash or cash equivalent</td>\n",
       "      <td>0</td>\n",
       "      <td>ZOLL Services LLC (A/K/A ZOLL LifeCor Corp)</td>\n",
       "      <td>Yes</td>\n",
       "      <td>23229</td>\n",
       "      <td>16.57</td>\n",
       "      <td>ZOLL Services LLC (A/K/A ZOLL LifeCor Corp)</td>\n",
       "      <td>HENRICO</td>\n",
       "      <td>100000000178</td>\n",
       "      <td>VA</td>\n",
       "    </tr>\n",
       "    <tr>\n",
       "      <th>454922889</th>\n",
       "      <td>United States</td>\n",
       "      <td>United States</td>\n",
       "      <td>Cash or cash equivalent</td>\n",
       "      <td>0</td>\n",
       "      <td>Collegium Pharmaceutical, Inc.</td>\n",
       "      <td>Yes</td>\n",
       "      <td>8037</td>\n",
       "      <td>11.95</td>\n",
       "      <td>Collegium Pharmaceutical, Inc.</td>\n",
       "      <td>HAMMONTON</td>\n",
       "      <td>100000151565</td>\n",
       "      <td>NJ</td>\n",
       "    </tr>\n",
       "  </tbody>\n",
       "</table>\n",
       "</div>"
      ],
      "text/plain": [
       "          Recipient_Country  \\\n",
       "Record_ID                     \n",
       "487611419     United States   \n",
       "471768577     United States   \n",
       "457280615     United States   \n",
       "432020625     United States   \n",
       "454922889     United States   \n",
       "\n",
       "          Applicable_Manufacturer_or_Applicable_GPO_Making_Payment_Country  \\\n",
       "Record_ID                                                                    \n",
       "487611419                                      United States                 \n",
       "471768577                                      United States                 \n",
       "457280615                                      United States                 \n",
       "432020625                                      United States                 \n",
       "454922889                                      United States                 \n",
       "\n",
       "          Form_of_Payment_or_Transfer_of_Value  Target  \\\n",
       "Record_ID                                                \n",
       "487611419           In-kind items and services       0   \n",
       "471768577           In-kind items and services       0   \n",
       "457280615           In-kind items and services       0   \n",
       "432020625              Cash or cash equivalent       0   \n",
       "454922889              Cash or cash equivalent       0   \n",
       "\n",
       "          Submitting_Applicable_Manufacturer_or_Applicable_GPO_Name  \\\n",
       "Record_ID                                                             \n",
       "487611419                    Sanofi and Genzyme US Companies          \n",
       "471768577                                       AbbVie, Inc.          \n",
       "457280615                              Eli Lilly and Company          \n",
       "432020625        ZOLL Services LLC (A/K/A ZOLL LifeCor Corp)          \n",
       "454922889                     Collegium Pharmaceutical, Inc.          \n",
       "\n",
       "          Related_Product_Indicator Recipient_Zip_Code  \\\n",
       "Record_ID                                                \n",
       "487611419                       Yes         35660-4020   \n",
       "471768577                       Yes         93726-4040   \n",
       "457280615                       Yes              28144   \n",
       "432020625                       Yes              23229   \n",
       "454922889                       Yes               8037   \n",
       "\n",
       "           Total_Amount_of_Payment_USDollars  \\\n",
       "Record_ID                                      \n",
       "487611419                              12.39   \n",
       "471768577                              11.47   \n",
       "457280615                              11.90   \n",
       "432020625                              16.57   \n",
       "454922889                              11.95   \n",
       "\n",
       "          Applicable_Manufacturer_or_Applicable_GPO_Making_Payment_Name  \\\n",
       "Record_ID                                                                 \n",
       "487611419                            SANOFI-AVENTIS U.S. LLC              \n",
       "471768577                                       AbbVie, Inc.              \n",
       "457280615                                     Lilly USA, LLC              \n",
       "432020625        ZOLL Services LLC (A/K/A ZOLL LifeCor Corp)              \n",
       "454922889                     Collegium Pharmaceutical, Inc.              \n",
       "\n",
       "          Recipient_City  \\\n",
       "Record_ID                  \n",
       "487611419      SHEFFIELD   \n",
       "471768577         FRESNO   \n",
       "457280615      SALISBURY   \n",
       "432020625        HENRICO   \n",
       "454922889      HAMMONTON   \n",
       "\n",
       "           Applicable_Manufacturer_or_Applicable_GPO_Making_Payment_ID  \\\n",
       "Record_ID                                                                \n",
       "487611419                                       100000000076             \n",
       "471768577                                       100000000204             \n",
       "457280615                                       100000000066             \n",
       "432020625                                       100000000178             \n",
       "454922889                                       100000151565             \n",
       "\n",
       "          Recipient_State  \n",
       "Record_ID                  \n",
       "487611419              AL  \n",
       "471768577              CA  \n",
       "457280615              NC  \n",
       "432020625              VA  \n",
       "454922889              NJ  "
      ]
     },
     "execution_count": 154,
     "metadata": {},
     "output_type": "execute_result"
    }
   ],
   "source": [
    "X_test_f.head()"
   ]
  },
  {
   "cell_type": "code",
   "execution_count": 155,
   "metadata": {},
   "outputs": [],
   "source": [
    "cat_head=list(X_test_f.loc[:,X_test_f.dtypes== object])"
   ]
  },
  {
   "cell_type": "code",
   "execution_count": 156,
   "metadata": {},
   "outputs": [],
   "source": [
    "# encode category data\n",
    "#target_e=['Recipient_State','Date_of_Payment','Recipient_Zip_Code','Recipient_City','Submitting_Applicable_Manufacturer_or_Applicable_GPO_Name','Applicable_Manufacturer_or_Applicable_GPO_Making_Payment_Name']\n",
    "cat_head=list(X_test_f.loc[:,X_test_f.dtypes== object])\n",
    "cat_head.append('Applicable_Manufacturer_or_Applicable_GPO_Making_Payment_ID')\n",
    "con_head=list(X_test_f.loc[:,X_test_f.dtypes!= object])\n",
    "con_head.remove('Applicable_Manufacturer_or_Applicable_GPO_Making_Payment_ID')\n",
    "# oridinal encoding all cats \n",
    "for i in cat_head:\n",
    "    X_test_f[i]=X_test_f[i].astype(\"category\").cat.codes"
   ]
  },
  {
   "cell_type": "code",
   "execution_count": 157,
   "metadata": {},
   "outputs": [],
   "source": [
    "feilds=list(X_test_f)\n",
    "feilds.remove(\"Target\")\n",
    "#feilds\n",
    "X_train,X_test,y_train,y_test=train_test_split(X_test_f[feilds],X_test_f.Target)"
   ]
  },
  {
   "cell_type": "markdown",
   "metadata": {},
   "source": [
    "### ordinal encoding data + without undersample + without standardize data+ Logistic Regression"
   ]
  },
  {
   "cell_type": "code",
   "execution_count": 158,
   "metadata": {},
   "outputs": [
    {
     "name": "stdout",
     "output_type": "stream",
     "text": [
      "-------test_roc_auc------\n",
      "0.909933809455015\n",
      "-------test_accuracy------\n",
      "0.9487324404503082\n",
      "-------test_average_precision------\n",
      "0.4286530149646217\n",
      "-------test_f1------\n",
      "0.16434592634910367\n",
      "-------recall------\n",
      "0.09412112116957934\n"
     ]
    }
   ],
   "source": [
    "from sklearn.model_selection import cross_validate\n",
    "from sklearn.linear_model import LogisticRegression\n",
    "scores = cross_validate(LogisticRegression(),\n",
    "                        X_train, y_train, cv=10,\n",
    "                        scoring=('roc_auc','accuracy','average_precision','recall','f1'))\n",
    "\n",
    "print(\"-------test_roc_auc------\\n\"+str(scores['test_roc_auc'].mean()))\n",
    "print(\"-------test_accuracy------\\n\"+str(scores['test_accuracy'].mean()))\n",
    "print(\"-------test_average_precision------\\n\"+str(scores['test_average_precision'].mean()))\n",
    "print(\"-------test_f1------\\n\"+str(scores['test_f1'].mean()))\n",
    "print(\"-------recall------\\n\"+str(scores['test_recall'].mean()))"
   ]
  },
  {
   "cell_type": "markdown",
   "metadata": {},
   "source": [
    "As the result shows, the prediction accuracy is very high in baseline model however the f1 score and recall are very low which are because of the imbalance of dataset. To tackle this problem, we have to undersampling data."
   ]
  },
  {
   "cell_type": "markdown",
   "metadata": {},
   "source": [
    "### Undersample data "
   ]
  },
  {
   "cell_type": "code",
   "execution_count": 159,
   "metadata": {},
   "outputs": [
    {
     "name": "stdout",
     "output_type": "stream",
     "text": [
      "-------test_roc_auc------\n",
      "0.9208043935725865\n",
      "-------test_accuracy------\n",
      "0.8504818058346559\n",
      "-------test_average_precision------\n",
      "0.4634626864180672\n",
      "-------test_f1------\n",
      "0.37870451233447755\n",
      "-------recall------\n",
      "0.845386551774217\n"
     ]
    }
   ],
   "source": [
    "from imblearn.pipeline import make_pipeline as make_imb_pipeline\n",
    "from imblearn.under_sampling import RandomUnderSampler\n",
    "undersample_pipe = make_imb_pipeline(RandomUnderSampler(), LogisticRegression())\n",
    "scores = cross_validate(undersample_pipe,\n",
    "                        X_train, y_train, cv=10,\n",
    "                        scoring=('roc_auc','accuracy','average_precision','recall','f1'))\n",
    "print(\"-------test_roc_auc------\\n\"+str(scores['test_roc_auc'].mean()))\n",
    "print(\"-------test_accuracy------\\n\"+str(scores['test_accuracy'].mean()))\n",
    "print(\"-------test_average_precision------\\n\"+str(scores['test_average_precision'].mean()))\n",
    "print(\"-------test_f1------\\n\"+str(scores['test_f1'].mean()))\n",
    "print(\"-------recall------\\n\"+str(scores['test_recall'].mean()))"
   ]
  },
  {
   "cell_type": "markdown",
   "metadata": {},
   "source": [
    "After undersampling the data, the recall and f1 score increase significantly in baseline model "
   ]
  },
  {
   "cell_type": "markdown",
   "metadata": {},
   "source": [
    "### Oversamepling data "
   ]
  },
  {
   "cell_type": "code",
   "execution_count": 160,
   "metadata": {},
   "outputs": [
    {
     "name": "stdout",
     "output_type": "stream",
     "text": [
      "-------test_roc_auc------\n",
      "0.9195808896958197\n",
      "-------test_accuracy------\n",
      "0.8468365594804667\n",
      "-------test_average_precision------\n",
      "0.4638061144088236\n",
      "-------test_f1------\n",
      "0.3729755760255709\n",
      "-------recall------\n",
      "0.8453860676768166\n"
     ]
    }
   ],
   "source": [
    "from imblearn.over_sampling import RandomOverSampler\n",
    "\n",
    "oversample_pipe = make_imb_pipeline(RandomOverSampler(), LogisticRegression())\n",
    "scores = cross_validate(oversample_pipe,\n",
    "                        X_train, y_train, cv=10,\n",
    "                        scoring=('roc_auc','accuracy','average_precision','recall','f1'))\n",
    "print(\"-------test_roc_auc------\\n\"+str(scores['test_roc_auc'].mean()))\n",
    "print(\"-------test_accuracy------\\n\"+str(scores['test_accuracy'].mean()))\n",
    "print(\"-------test_average_precision------\\n\"+str(scores['test_average_precision'].mean()))\n",
    "print(\"-------test_f1------\\n\"+str(scores['test_f1'].mean()))\n",
    "print(\"-------recall------\\n\"+str(scores['test_recall'].mean()))\n"
   ]
  },
  {
   "cell_type": "markdown",
   "metadata": {},
   "source": [
    "Undersampling data is better than oversampling data. First, undersampling brings faster computation. Second, the prediction performance is similar with oversampling. Thus, in the following sections, we are going to use undersampling results to train the the model. "
   ]
  },
  {
   "cell_type": "markdown",
   "metadata": {},
   "source": [
    "# Task 3 Feature Engineering "
   ]
  },
  {
   "cell_type": "markdown",
   "metadata": {},
   "source": [
    "### Feature encoding\n",
    "\n",
    "\n",
    "\n",
    "\n"
   ]
  },
  {
   "cell_type": "markdown",
   "metadata": {},
   "source": [
    "As shown in the scatter plot, some features, such as 'Recipient_State','Date_of_Payment','Recipient_Zip_Code','Recipient_City','Submitting_Applicable_Manufacturer_or_Applicable_GPO_Name','Applicable_Manufacturer_or_Applicable_GPO_Making_Payment_Name' have more than 100 categories which needs target encoding. For features such as 'Recipient_Country' only have 4 classes so they can be one-hot encoded.\n",
    "\n"
   ]
  },
  {
   "cell_type": "code",
   "execution_count": 161,
   "metadata": {},
   "outputs": [],
   "source": [
    "target_e={'Recipient_State','Date_of_Payment','Recipient_Zip_Code','Recipient_City','Submitting_Applicable_Manufacturer_or_Applicable_GPO_Name','Applicable_Manufacturer_or_Applicable_GPO_Making_Payment_Name','Applicable_Manufacturer_or_Applicable_GPO_Making_Payment_Country','Applicable_Manufacturer_or_Applicable_GPO_Making_Payment_ID'}\n",
    "continuous={'Total_Amount_of_Payment_USDollars'}\n",
    "one_hot=set(X_train)-target_e-continuous\n",
    "\n",
    "target_id=set()\n",
    "one_hot_id=set()\n",
    "continuous_id=set()\n",
    "for index, value in enumerate(list(X_train)):\n",
    "    if value in target_e:\n",
    "        target_id.add(index)\n",
    "    elif value in one_hot:\n",
    "        one_hot_id.add(index)\n",
    "    else:\n",
    "        continuous_id.add(index)"
   ]
  },
  {
   "cell_type": "code",
   "execution_count": 162,
   "metadata": {},
   "outputs": [
    {
     "data": {
      "text/plain": [
       "{'Form_of_Payment_or_Transfer_of_Value',\n",
       " 'Recipient_Country',\n",
       " 'Related_Product_Indicator'}"
      ]
     },
     "execution_count": 162,
     "metadata": {},
     "output_type": "execute_result"
    }
   ],
   "source": [
    "one_hot"
   ]
  },
  {
   "cell_type": "code",
   "execution_count": 163,
   "metadata": {},
   "outputs": [
    {
     "data": {
      "text/plain": [
       "{'Applicable_Manufacturer_or_Applicable_GPO_Making_Payment_Country',\n",
       " 'Applicable_Manufacturer_or_Applicable_GPO_Making_Payment_ID',\n",
       " 'Applicable_Manufacturer_or_Applicable_GPO_Making_Payment_Name',\n",
       " 'Date_of_Payment',\n",
       " 'Recipient_City',\n",
       " 'Recipient_State',\n",
       " 'Recipient_Zip_Code',\n",
       " 'Submitting_Applicable_Manufacturer_or_Applicable_GPO_Name'}"
      ]
     },
     "execution_count": 163,
     "metadata": {},
     "output_type": "execute_result"
    }
   ],
   "source": [
    "target_e"
   ]
  },
  {
   "cell_type": "markdown",
   "metadata": {},
   "source": [
    "### Build a pipeline One-hot encoding + target encoding+ standardize data+Logistic regression "
   ]
  },
  {
   "cell_type": "code",
   "execution_count": 164,
   "metadata": {},
   "outputs": [
    {
     "name": "stdout",
     "output_type": "stream",
     "text": [
      "-------test_roc_auc------\n",
      "0.9230212336296638\n",
      "-------test_accuracy------\n",
      "0.8443987610719539\n",
      "-------test_average_precision------\n",
      "0.464535738511224\n",
      "-------test_f1------\n",
      "0.3703157829934921\n",
      "-------recall------\n",
      "0.8489112649465073\n"
     ]
    }
   ],
   "source": [
    "### Build a pipeline:\n",
    "from sklearn.preprocessing import OneHotEncoder\n",
    "from sklearn.model_selection import cross_validate\n",
    "from category_encoders import TargetEncoder\n",
    "from sklearn.compose import ColumnTransformer\n",
    "from sklearn.preprocessing import StandardScaler\n",
    "from sklearn.pipeline import Pipeline\n",
    "from sklearn.impute import SimpleImputer\n",
    "from sklearn.linear_model import LogisticRegression\n",
    "\n",
    "numeric_transformer = Pipeline(steps=[('imputer', SimpleImputer(strategy='mean')),\n",
    "  ('scaler', StandardScaler())])\n",
    "\n",
    "categorical_transformer_target=Pipeline(steps=[\n",
    "    ('imputer', SimpleImputer(strategy='constant', fill_value=-1)),\n",
    "    ('target', TargetEncoder(handle_unknown='impute'))])\n",
    "\n",
    "categorical_transformer_one_hot=Pipeline(steps=[\n",
    "    ('imputer', SimpleImputer(strategy='constant', fill_value=-1)),\n",
    "    ('onehot', OneHotEncoder(handle_unknown='ignore',sparse=False))])\n",
    "\n",
    "\n",
    "continuous=np.array(list(continuous_id))\n",
    "\n",
    "categorical_target=np.array(list(target_id))\n",
    "\n",
    "categorical_one_hot=np.array(list(one_hot_id))\n",
    "\n",
    "\n",
    "preprocessor= ColumnTransformer(\n",
    "    transformers=[\n",
    "        ('num', numeric_transformer,continuous),\n",
    "        ('cat_target', categorical_transformer_target, categorical_target),\n",
    "        ('cat_onehot', categorical_transformer_one_hot, categorical_one_hot)\n",
    "    ])\n",
    "\n",
    "clf_L=make_imb_pipeline(RandomUnderSampler(),preprocessor,LogisticRegression())\n",
    "\n",
    "scores = cross_validate(clf_L,\n",
    "                        X_train, y_train, cv=10,\n",
    "                        scoring=('roc_auc','accuracy','average_precision','recall','f1'))\n",
    "\n",
    "print(\"-------test_roc_auc------\\n\"+str(scores['test_roc_auc'].mean()))\n",
    "print(\"-------test_accuracy------\\n\"+str(scores['test_accuracy'].mean()))\n",
    "print(\"-------test_average_precision------\\n\"+str(scores['test_average_precision'].mean()))\n",
    "print(\"-------test_f1------\\n\"+str(scores['test_f1'].mean()))\n",
    "print(\"-------recall------\\n\"+str(scores['test_recall'].mean()))\n"
   ]
  },
  {
   "cell_type": "markdown",
   "metadata": {},
   "source": [
    "### Target encoding vs Orindal encoding \n",
    "\n",
    "After practicing categorical data encoding, the recall of model is improved"
   ]
  },
  {
   "cell_type": "markdown",
   "metadata": {},
   "source": [
    "# Task 4  Any model\n",
    "\n",
    "Use any classification model we discussed (trees, forests, gradient boosting, SVM) to improve\n",
    "your result. You can (and probably should) change your preprocessing and feature engineering\n",
    "to be suitable for the model. You are not required to try all of these models. Tune parameters\n",
    "as appropriate."
   ]
  },
  {
   "cell_type": "markdown",
   "metadata": {},
   "source": [
    "### Linear SVM "
   ]
  },
  {
   "cell_type": "code",
   "execution_count": 106,
   "metadata": {},
   "outputs": [
    {
     "name": "stdout",
     "output_type": "stream",
     "text": [
      "-------test_roc_auc------\n",
      "0.5089214805400223\n",
      "-------test_accuracy------\n",
      "0.5252893730843631\n",
      "-------test_average_precision------\n",
      "0.05943112117596981\n",
      "-------test_f1------\n",
      "0.0857277698427473\n",
      "-------recall------\n",
      "0.4797609670235629\n"
     ]
    }
   ],
   "source": [
    "from sklearn.svm import LinearSVC\n",
    "from sklearn.ensemble import GradientBoostingClassifier\n",
    "\n",
    "numeric_transformer = Pipeline(steps=[('imputer', SimpleImputer(strategy='mean')),\n",
    "  ('scaler', StandardScaler())])\n",
    "\n",
    "categorical_transformer_target=Pipeline(steps=[\n",
    "    ('imputer', SimpleImputer(strategy='constant', fill_value=-1)),\n",
    "    ('target', TargetEncoder(handle_unknown='impute'))])\n",
    "\n",
    "categorical_transformer_one_hot=Pipeline(steps=[\n",
    "    ('imputer', SimpleImputer(strategy='constant', fill_value=-1)),\n",
    "    ('onehot', OneHotEncoder(handle_unknown='ignore',sparse=False))])\n",
    "\n",
    "\n",
    "continuous=np.array(list(continuous_id))\n",
    "\n",
    "categorical_target=np.array(list(target_id))\n",
    "\n",
    "categorical_one_hot=np.array(list(one_hot_id))\n",
    "\n",
    "\n",
    "preprocessor= ColumnTransformer(\n",
    "    transformers=[\n",
    "        ('num', numeric_transformer,continuous),\n",
    "        ('cat_target', categorical_transformer_target, categorical_target),\n",
    "        ('cat_onehot', categorical_transformer_one_hot, categorical_one_hot)\n",
    "    ])\n",
    "\n",
    "clf_SVM=make_imb_pipeline(RandomUnderSampler(),preprocessor,LinearSVC())\n",
    "\n",
    "scores = cross_validate(clf_SVM,\n",
    "                        X_train, y_train, cv=10,\n",
    "                        scoring=('roc_auc','accuracy','average_precision','recall','f1'))\n",
    "\n",
    "print(\"-------test_roc_auc------\\n\"+str(scores['test_roc_auc'].mean()))\n",
    "print(\"-------test_accuracy------\\n\"+str(scores['test_accuracy'].mean()))\n",
    "print(\"-------test_average_precision------\\n\"+str(scores['test_average_precision'].mean()))\n",
    "print(\"-------test_f1------\\n\"+str(scores['test_f1'].mean()))\n",
    "print(\"-------recall------\\n\"+str(scores['test_recall'].mean()))"
   ]
  },
  {
   "cell_type": "code",
   "execution_count": 137,
   "metadata": {},
   "outputs": [
    {
     "data": {
      "text/plain": [
       "array([10.        , 12.2712524 , 15.05836354, 18.47849797, 22.67543126,\n",
       "       27.82559402, 34.14548874, 41.90079106, 51.41751828, 63.09573445])"
      ]
     },
     "execution_count": 137,
     "metadata": {},
     "output_type": "execute_result"
    }
   ],
   "source": [
    "np.logspace(1, 1.8, 10)"
   ]
  },
  {
   "cell_type": "code",
   "execution_count": 128,
   "metadata": {},
   "outputs": [
    {
     "data": {
      "text/plain": [
       "<matplotlib.legend.Legend at 0x1b1f25f5f8>"
      ]
     },
     "execution_count": 128,
     "metadata": {},
     "output_type": "execute_result"
    },
    {
     "data": {
      "image/png": "[encoded data removed]",
      "text/plain": [
       "<Figure size 720x360 with 1 Axes>"
      ]
     },
     "metadata": {
      "needs_background": "light"
     },
     "output_type": "display_data"
    }
   ],
   "source": [
    "## Tune Parameters\n",
    "from sklearn.model_selection import GridSearchCV\n",
    "parameters = {}\n",
    "param_grid = {'linearsvc__C': np.logspace(1, 1.8, 10).round(2)}\n",
    "CV_SVM = GridSearchCV(clf_SVM, param_grid, scoring = 'f1',cv=10)\n",
    "CV_SVM.fit(X_train, y_train)   \n",
    "L=len(CV_SVM.cv_results_['param_linearsvc__C'])\n",
    "plt.figure(figsize=(10,5))\n",
    "plt.plot(CV_SVM.cv_results_['param_linearsvc__C'].data, CV_SVM.cv_results_ [\"mean_test_score\"],label=\"Gridsearch\")\n",
    "#plt.plot(CV_R.cv_results_[\"param_Ridge__alpha\"].data,[0.863]*L,\"red\",label=\"base\")\n",
    "plt.title(\"SVM__C\")\n",
    "plt.xlabel(\"C\")\n",
    "plt.ylabel(\"F1\")\n",
    "plt.legend()"
   ]
  },
  {
   "cell_type": "markdown",
   "metadata": {},
   "source": [
    "### GBDT"
   ]
  },
  {
   "cell_type": "code",
   "execution_count": 144,
   "metadata": {},
   "outputs": [
    {
     "name": "stdout",
     "output_type": "stream",
     "text": [
      "-------test_roc_auc------\n",
      "0.9398123323907466\n",
      "-------test_accuracy------\n",
      "0.8856422359812074\n",
      "-------test_average_precision------\n",
      "0.43442587208427347\n",
      "-------test_f1------\n",
      "0.4520946613015841\n",
      "-------recall------\n",
      "0.8792757047971914\n"
     ]
    }
   ],
   "source": [
    "from sklearn.ensemble import GradientBoostingClassifier\n",
    "clf_GBDT=make_imb_pipeline(RandomUnderSampler(),preprocessor,GradientBoostingClassifier(n_estimators=10, learning_rate=0.1,max_depth=2,random_state=0))\n",
    "\n",
    "scores = cross_validate(clf_GBDT,\n",
    "                        X_train, y_train, cv=10,\n",
    "                        scoring=('roc_auc','accuracy','average_precision','recall','f1'))\n",
    "\n",
    "print(\"-------test_roc_auc------\\n\"+str(scores['test_roc_auc'].mean()))\n",
    "print(\"-------test_accuracy------\\n\"+str(scores['test_accuracy'].mean()))\n",
    "print(\"-------test_average_precision------\\n\"+str(scores['test_average_precision'].mean()))\n",
    "print(\"-------test_f1------\\n\"+str(scores['test_f1'].mean()))\n",
    "print(\"-------recall------\\n\"+str(scores['test_recall'].mean()))"
   ]
  },
  {
   "cell_type": "code",
   "execution_count": 161,
   "metadata": {},
   "outputs": [
    {
     "data": {
      "text/plain": [
       "<matplotlib.legend.Legend at 0x1b27bc9438>"
      ]
     },
     "execution_count": 161,
     "metadata": {},
     "output_type": "execute_result"
    },
    {
     "data": {
      "image/png": "[encoded data removed]",
      "text/plain": [
       "<Figure size 720x360 with 1 Axes>"
      ]
     },
     "metadata": {
      "needs_background": "light"
     },
     "output_type": "display_data"
    }
   ],
   "source": [
    "## Tune Parameters n_estimators \n",
    "from sklearn.model_selection import GridSearchCV\n",
    "parameters = {}\n",
    "param_grid = {'gradientboostingclassifier__n_estimators': np.array(range(160,210,10))}\n",
    "CV_GBDT = GridSearchCV(clf_GBDT, param_grid, scoring = 'f1')\n",
    "CV_GBDT.fit(X_train, y_train)   \n",
    "L=len(CV_GBDT.cv_results_['param_gradientboostingclassifier__n_estimators'])\n",
    "plt.figure(figsize=(10,5))\n",
    "plt.plot(CV_GBDT.cv_results_['param_gradientboostingclassifier__n_estimators'].data, CV_GBDT.cv_results_ ['mean_test_score'],label=\"Gridsearch\")\n",
    "#plt.plot(CV_R.cv_results_[\"param_Ridge__alpha\"].data,[0.863]*L,\"red\",label=\"base\")\n",
    "plt.title(\"GBDT__N_ESTIMATORS\")\n",
    "plt.xlabel(\"N_ESTIMATORS\")\n",
    "plt.ylabel(\"F1\")\n",
    "plt.legend()"
   ]
  },
  {
   "cell_type": "markdown",
   "metadata": {},
   "source": [
    "### RF\n"
   ]
  },
  {
   "cell_type": "code",
   "execution_count": 86,
   "metadata": {},
   "outputs": [
    {
     "name": "stdout",
     "output_type": "stream",
     "text": [
      "-------test_roc_auc------\n",
      "0.9811844817804941\n",
      "-------test_accuracy------\n",
      "0.9409571464942375\n",
      "-------test_average_precision------\n",
      "0.7070153643582756\n",
      "-------test_f1------\n",
      "0.6329332762312825\n",
      "-------recall------\n",
      "0.950057141182676\n"
     ]
    }
   ],
   "source": [
    "from sklearn.ensemble import RandomForestClassifier\n",
    "\n",
    "clf_RF=make_imb_pipeline(RandomUnderSampler(),preprocessor,RandomForestClassifier(n_estimators=10))\n",
    "\n",
    "scores = cross_validate(clf_RF,\n",
    "                        X_train, y_train, cv=10,\n",
    "                        scoring=('roc_auc','accuracy','average_precision','recall','f1'))\n",
    "\n",
    "print(\"-------test_roc_auc------\\n\"+str(scores['test_roc_auc'].mean()))\n",
    "print(\"-------test_accuracy------\\n\"+str(scores['test_accuracy'].mean()))\n",
    "print(\"-------test_average_precision------\\n\"+str(scores['test_average_precision'].mean()))\n",
    "print(\"-------test_f1------\\n\"+str(scores['test_f1'].mean()))\n",
    "print(\"-------recall------\\n\"+str(scores['test_recall'].mean()))\n"
   ]
  },
  {
   "cell_type": "code",
   "execution_count": 200,
   "metadata": {},
   "outputs": [
    {
     "name": "stdout",
     "output_type": "stream",
     "text": [
      "Best Parameter: {'randomforestclassifier__n_estimators': 210}\n"
     ]
    },
    {
     "data": {
      "text/plain": [
       "<matplotlib.legend.Legend at 0x1a63fcbef0>"
      ]
     },
     "execution_count": 200,
     "metadata": {},
     "output_type": "execute_result"
    },
    {
     "data": {
      "image/png": "[encoded data removed]",
      "text/plain": [
       "<Figure size 720x360 with 1 Axes>"
      ]
     },
     "metadata": {
      "needs_background": "light"
     },
     "output_type": "display_data"
    }
   ],
   "source": [
    "## Tune Parameters of n esitmators \n",
    "\n",
    "from sklearn.model_selection import GridSearchCV\n",
    "parameters = {}\n",
    "param_grid = {'randomforestclassifier__n_estimators':np.array(range(200,300,10))}\n",
    "CV_RF = GridSearchCV(clf_RF, param_grid, scoring = 'f1')\n",
    "CV_RF.fit(X_train, y_train)\n",
    "print('Best Parameter:', CV_RF.best_params_)\n",
    "L=len(CV_RF.cv_results_['param_randomforestclassifier__n_estimators'])\n",
    "plt.figure(figsize=(10,5))\n",
    "plt.plot(CV_RF.cv_results_['param_randomforestclassifier__n_estimators'].data, CV_RF.cv_results_ ['mean_test_score'],label=\"Gridsearch\")\n",
    "#plt.plot(CV_R.cv_results_[\"param_Ridge__alpha\"].data,[0.863]*L,\"red\",label=\"base\")\n",
    "plt.title(\"RF__N_ESTIMATORS\")\n",
    "plt.xlabel(\"N_ESTIMATORS\")\n",
    "plt.ylabel(\"F1\")\n",
    "plt.legend()\n"
   ]
  },
  {
   "cell_type": "markdown",
   "metadata": {},
   "source": [
    "# Task 5 Feature Selections\n",
    "\n",
    "Identify features that are important for your best model. Which features are most influential,\n",
    "and which features could be removed without decrease in performance? Does removing\n",
    "irrelevant features make your model better?"
   ]
  },
  {
   "cell_type": "markdown",
   "metadata": {},
   "source": [
    "### Covariance Method"
   ]
  },
  {
   "cell_type": "code",
   "execution_count": 165,
   "metadata": {},
   "outputs": [],
   "source": [
    "categorical_target=np.array(list(target_id) + list(one_hot_id))\n",
    "categorical_transformer_target=Pipeline(steps=[\n",
    "    ('imputer', SimpleImputer(strategy='constant', fill_value=-1)),\n",
    "    ('target', TargetEncoder(handle_unknown='impute'))])\n",
    "preprocessor= ColumnTransformer(\n",
    "    transformers=[\n",
    "        ('num', numeric_transformer,continuous),\n",
    "        ('cat_target', categorical_transformer_target, categorical_target)\n",
    "    ])\n",
    "\n",
    "X_train_df = preprocessor.fit_transform(X_train,y_train)"
   ]
  },
  {
   "cell_type": "code",
   "execution_count": 166,
   "metadata": {},
   "outputs": [
    {
     "data": {
      "image/png": "[encoded data removed]",
      "text/plain": [
       "<Figure size 500x500 with 1 Axes>"
      ]
     },
     "metadata": {
      "needs_background": "light"
     },
     "output_type": "display_data"
    }
   ],
   "source": [
    "cov = np.cov(X_train_df,rowvar=False)\n",
    "from scipy.cluster import hierarchy\n",
    "order = np.array(hierarchy.dendrogram(\n",
    "    hierarchy.ward(cov),no_plot=True)['ivl'], dtype=\"int\")\n",
    "\n",
    "\n",
    "plt.figure(figsize=(5, 5), dpi=100)\n",
    "plt.imshow(cov[order, :][:, order])\n",
    "# plt.xticks(range(len(X_train_df[0])), list(X_train))\n",
    "plt.yticks(range(len(X_train_df[0])), list(X_train));"
   ]
  },
  {
   "cell_type": "raw",
   "metadata": {},
   "source": [
    "The features we have chosen do not appear to be coorelated and hence we will have to use other techniques to perform feature selection"
   ]
  },
  {
   "cell_type": "markdown",
   "metadata": {},
   "source": [
    "### Plot F-values and p-values"
   ]
  },
  {
   "cell_type": "code",
   "execution_count": 167,
   "metadata": {
    "scrolled": false
   },
   "outputs": [
    {
     "data": {
      "image/png": "[encoded data removed]",
      "text/plain": [
       "<Figure size 1080x360 with 2 Axes>"
      ]
     },
     "metadata": {
      "needs_background": "light"
     },
     "output_type": "display_data"
    }
   ],
   "source": [
    "from sklearn.feature_selection import f_classif\n",
    "f_values, p_values = f_classif(X_train_df, y_train)\n",
    "fig, ax = plt.subplots(2, 1)\n",
    "fig.set_size_inches(15,5)\n",
    "ax[0].set_title(\"F values\")\n",
    "ax[0].plot(f_values, 'o')\n",
    "ax[1].set_title(\"p values\")\n",
    "ax[1].plot(p_values, 'o')\n",
    "ax[1].set_yscale(\"log\")\n",
    "\n",
    "ax[1].set_xticks(range(X_train.shape[1]))\n",
    "ax[1].set_xticklabels(list(X_train),rotation='vertical');\n"
   ]
  },
  {
   "cell_type": "raw",
   "metadata": {},
   "source": [
    "Features with low p-values are important and features with high p-values are not so important .\n",
    "We can see from the p-value curve above that : \n",
    "\n",
    "'Applicable_Manufacturer_or_Applicable_GPO_Making_Payment_Name', \n",
    "'Recipient_Zip_Code', \n",
    "'Submitting_Applicable_Manufacturer_or_Applicable_GPO_Name' \n",
    "are all the features with high p-values and hence we should be able to discard them. \n",
    "\n",
    "On the other hand Features like \n",
    "Recipient_Country, Recipient_State, Total_amount_of_Payment_USDollars have lower p-values making them a important feature \n",
    "\n"
   ]
  },
  {
   "cell_type": "markdown",
   "metadata": {},
   "source": [
    "## Select K best features"
   ]
  },
  {
   "cell_type": "markdown",
   "metadata": {},
   "source": [
    "#### 1. Selecting 9 best features , remove worst 2 features"
   ]
  },
  {
   "cell_type": "code",
   "execution_count": 168,
   "metadata": {},
   "outputs": [
    {
     "data": {
      "text/html": [
       "<div>\n",
       "<style scoped>\n",
       "    .dataframe tbody tr th:only-of-type {\n",
       "        vertical-align: middle;\n",
       "    }\n",
       "\n",
       "    .dataframe tbody tr th {\n",
       "        vertical-align: top;\n",
       "    }\n",
       "\n",
       "    .dataframe thead th {\n",
       "        text-align: right;\n",
       "    }\n",
       "</style>\n",
       "<table border=\"1\" class=\"dataframe\">\n",
       "  <thead>\n",
       "    <tr style=\"text-align: right;\">\n",
       "      <th></th>\n",
       "      <th>Recipient_Country</th>\n",
       "      <th>Applicable_Manufacturer_or_Applicable_GPO_Making_Payment_Country</th>\n",
       "      <th>Form_of_Payment_or_Transfer_of_Value</th>\n",
       "      <th>Submitting_Applicable_Manufacturer_or_Applicable_GPO_Name</th>\n",
       "      <th>Related_Product_Indicator</th>\n",
       "      <th>Recipient_Zip_Code</th>\n",
       "      <th>Total_Amount_of_Payment_USDollars</th>\n",
       "      <th>Applicable_Manufacturer_or_Applicable_GPO_Making_Payment_Name</th>\n",
       "      <th>Recipient_City</th>\n",
       "      <th>Applicable_Manufacturer_or_Applicable_GPO_Making_Payment_ID</th>\n",
       "      <th>Recipient_State</th>\n",
       "    </tr>\n",
       "    <tr>\n",
       "      <th>Record_ID</th>\n",
       "      <th></th>\n",
       "      <th></th>\n",
       "      <th></th>\n",
       "      <th></th>\n",
       "      <th></th>\n",
       "      <th></th>\n",
       "      <th></th>\n",
       "      <th></th>\n",
       "      <th></th>\n",
       "      <th></th>\n",
       "      <th></th>\n",
       "    </tr>\n",
       "  </thead>\n",
       "  <tbody>\n",
       "    <tr>\n",
       "      <th>502976181</th>\n",
       "      <td>4</td>\n",
       "      <td>17</td>\n",
       "      <td>2</td>\n",
       "      <td>591</td>\n",
       "      <td>1</td>\n",
       "      <td>7091</td>\n",
       "      <td>12.91</td>\n",
       "      <td>660</td>\n",
       "      <td>4191</td>\n",
       "      <td>125</td>\n",
       "      <td>40</td>\n",
       "    </tr>\n",
       "    <tr>\n",
       "      <th>449558507</th>\n",
       "      <td>4</td>\n",
       "      <td>17</td>\n",
       "      <td>2</td>\n",
       "      <td>378</td>\n",
       "      <td>1</td>\n",
       "      <td>20692</td>\n",
       "      <td>0.86</td>\n",
       "      <td>436</td>\n",
       "      <td>6149</td>\n",
       "      <td>149</td>\n",
       "      <td>24</td>\n",
       "    </tr>\n",
       "    <tr>\n",
       "      <th>478089727</th>\n",
       "      <td>4</td>\n",
       "      <td>17</td>\n",
       "      <td>2</td>\n",
       "      <td>71</td>\n",
       "      <td>1</td>\n",
       "      <td>13091</td>\n",
       "      <td>119.99</td>\n",
       "      <td>77</td>\n",
       "      <td>3277</td>\n",
       "      <td>78</td>\n",
       "      <td>11</td>\n",
       "    </tr>\n",
       "    <tr>\n",
       "      <th>467445117</th>\n",
       "      <td>4</td>\n",
       "      <td>17</td>\n",
       "      <td>2</td>\n",
       "      <td>677</td>\n",
       "      <td>1</td>\n",
       "      <td>6132</td>\n",
       "      <td>20.49</td>\n",
       "      <td>770</td>\n",
       "      <td>7369</td>\n",
       "      <td>683</td>\n",
       "      <td>40</td>\n",
       "    </tr>\n",
       "    <tr>\n",
       "      <th>447241655</th>\n",
       "      <td>4</td>\n",
       "      <td>17</td>\n",
       "      <td>2</td>\n",
       "      <td>822</td>\n",
       "      <td>1</td>\n",
       "      <td>28749</td>\n",
       "      <td>62.84</td>\n",
       "      <td>931</td>\n",
       "      <td>3021</td>\n",
       "      <td>25</td>\n",
       "      <td>46</td>\n",
       "    </tr>\n",
       "  </tbody>\n",
       "</table>\n",
       "</div>"
      ],
      "text/plain": [
       "           Recipient_Country  \\\n",
       "Record_ID                      \n",
       "502976181                  4   \n",
       "449558507                  4   \n",
       "478089727                  4   \n",
       "467445117                  4   \n",
       "447241655                  4   \n",
       "\n",
       "           Applicable_Manufacturer_or_Applicable_GPO_Making_Payment_Country  \\\n",
       "Record_ID                                                                     \n",
       "502976181                                                 17                  \n",
       "449558507                                                 17                  \n",
       "478089727                                                 17                  \n",
       "467445117                                                 17                  \n",
       "447241655                                                 17                  \n",
       "\n",
       "           Form_of_Payment_or_Transfer_of_Value  \\\n",
       "Record_ID                                         \n",
       "502976181                                     2   \n",
       "449558507                                     2   \n",
       "478089727                                     2   \n",
       "467445117                                     2   \n",
       "447241655                                     2   \n",
       "\n",
       "           Submitting_Applicable_Manufacturer_or_Applicable_GPO_Name  \\\n",
       "Record_ID                                                              \n",
       "502976181                                                591           \n",
       "449558507                                                378           \n",
       "478089727                                                 71           \n",
       "467445117                                                677           \n",
       "447241655                                                822           \n",
       "\n",
       "           Related_Product_Indicator  Recipient_Zip_Code  \\\n",
       "Record_ID                                                  \n",
       "502976181                          1                7091   \n",
       "449558507                          1               20692   \n",
       "478089727                          1               13091   \n",
       "467445117                          1                6132   \n",
       "447241655                          1               28749   \n",
       "\n",
       "           Total_Amount_of_Payment_USDollars  \\\n",
       "Record_ID                                      \n",
       "502976181                              12.91   \n",
       "449558507                               0.86   \n",
       "478089727                             119.99   \n",
       "467445117                              20.49   \n",
       "447241655                              62.84   \n",
       "\n",
       "           Applicable_Manufacturer_or_Applicable_GPO_Making_Payment_Name  \\\n",
       "Record_ID                                                                  \n",
       "502976181                                                660               \n",
       "449558507                                                436               \n",
       "478089727                                                 77               \n",
       "467445117                                                770               \n",
       "447241655                                                931               \n",
       "\n",
       "           Recipient_City  \\\n",
       "Record_ID                   \n",
       "502976181            4191   \n",
       "449558507            6149   \n",
       "478089727            3277   \n",
       "467445117            7369   \n",
       "447241655            3021   \n",
       "\n",
       "           Applicable_Manufacturer_or_Applicable_GPO_Making_Payment_ID  \\\n",
       "Record_ID                                                                \n",
       "502976181                                                125             \n",
       "449558507                                                149             \n",
       "478089727                                                 78             \n",
       "467445117                                                683             \n",
       "447241655                                                 25             \n",
       "\n",
       "           Recipient_State  \n",
       "Record_ID                   \n",
       "502976181               40  \n",
       "449558507               24  \n",
       "478089727               11  \n",
       "467445117               40  \n",
       "447241655               46  "
      ]
     },
     "execution_count": 168,
     "metadata": {},
     "output_type": "execute_result"
    }
   ],
   "source": [
    "X_train.head()"
   ]
  },
  {
   "cell_type": "code",
   "execution_count": 169,
   "metadata": {},
   "outputs": [
    {
     "name": "stdout",
     "output_type": "stream",
     "text": [
      "(84498, 11)\n",
      "(84498, 9)\n"
     ]
    }
   ],
   "source": [
    "from sklearn.feature_selection import SelectKBest, SelectPercentile, SelectFpr\n",
    "# from sklearn.svm import LinearSVC\n",
    "select = SelectKBest(k=9, score_func=f_classif)\n",
    "select.fit(X_train_df, y_train)\n",
    "print(X_train_df.shape)\n",
    "X_train_bestFeat = select.transform(X_train_df)\n",
    "print(X_train_bestFeat.shape)"
   ]
  },
  {
   "cell_type": "code",
   "execution_count": 170,
   "metadata": {},
   "outputs": [
    {
     "data": {
      "text/plain": [
       "array([-5.00712594e-02,  1.70000000e+01,  5.91000000e+02,  7.09100000e+03,\n",
       "        6.60000000e+02,  1.25000000e+02,  4.00000000e+00,  2.00000000e+00,\n",
       "        1.00000000e+00])"
      ]
     },
     "execution_count": 170,
     "metadata": {},
     "output_type": "execute_result"
    }
   ],
   "source": [
    "X_train_bestFeat[0]"
   ]
  },
  {
   "cell_type": "code",
   "execution_count": 171,
   "metadata": {
    "scrolled": false
   },
   "outputs": [
    {
     "data": {
      "text/plain": [
       "array([-5.00712594e-02,  1.70000000e+01,  5.91000000e+02,  7.09100000e+03,\n",
       "        6.60000000e+02,  4.19100000e+03,  1.25000000e+02,  4.00000000e+01,\n",
       "        4.00000000e+00,  2.00000000e+00,  1.00000000e+00])"
      ]
     },
     "execution_count": 171,
     "metadata": {},
     "output_type": "execute_result"
    }
   ],
   "source": [
    "X_train_df[0]"
   ]
  },
  {
   "cell_type": "code",
   "execution_count": 191,
   "metadata": {},
   "outputs": [
    {
     "data": {
      "text/plain": [
       "['Recipient_Country',\n",
       " 'Applicable_Manufacturer_or_Applicable_GPO_Making_Payment_Country',\n",
       " 'Form_of_Payment_or_Transfer_of_Value',\n",
       " 'Submitting_Applicable_Manufacturer_or_Applicable_GPO_Name',\n",
       " 'Related_Product_Indicator',\n",
       " 'Recipient_Zip_Code',\n",
       " 'Total_Amount_of_Payment_USDollars',\n",
       " 'Applicable_Manufacturer_or_Applicable_GPO_Making_Payment_Name',\n",
       " 'Recipient_City',\n",
       " 'Applicable_Manufacturer_or_Applicable_GPO_Making_Payment_ID',\n",
       " 'Recipient_State']"
      ]
     },
     "execution_count": 191,
     "metadata": {},
     "output_type": "execute_result"
    }
   ],
   "source": [
    "list(X_train)"
   ]
  },
  {
   "cell_type": "raw",
   "metadata": {},
   "source": [
    "Compare the 1st row of original dataframe and dataframe obtained after selectKBest, and map the columns to find the best features which get selected. We can find out that features 'Recipient_Zip_Code' and  'Recipient_City' were dropped by selectKBest."
   ]
  },
  {
   "cell_type": "code",
   "execution_count": 174,
   "metadata": {},
   "outputs": [],
   "source": [
    "target_e=['Recipient_State','Date_of_Payment','Recipient_Zip_Code','Recipient_City','Submitting_Applicable_Manufacturer_or_Applicable_GPO_Name','Applicable_Manufacturer_or_Applicable_GPO_Making_Payment_Name','Applicable_Manufacturer_or_Applicable_GPO_Making_Payment_Country','Applicable_Manufacturer_or_Applicable_GPO_Making_Payment_ID']\n",
    "continuous=['Total_Amount_of_Payment_USDollars']\n",
    "one_hot=set(X_train)-set(target_e)-set(continuous)\n",
    "target_e={'Recipient_State','Date_of_Payment','Recipient_Zip_Code','Recipient_City','Submitting_Applicable_Manufacturer_or_Applicable_GPO_Name','Applicable_Manufacturer_or_Applicable_GPO_Making_Payment_Name','Applicable_Manufacturer_or_Applicable_GPO_Making_Payment_Country','Applicable_Manufacturer_or_Applicable_GPO_Making_Payment_ID'}\n",
    "continuous={'Total_Amount_of_Payment_USDollars'}\n",
    "one_hot=set(X_train)-target_e-continuous\n",
    "\n",
    "target_id=set()\n",
    "one_hot_id=set()\n",
    "continuous_id=set()\n",
    "for index, value in enumerate(list(X_train)):\n",
    "    if value in target_e:\n",
    "        target_id.add(index)\n",
    "    elif value in one_hot:\n",
    "        one_hot_id.add(index)\n",
    "    else:\n",
    "        continuous_id.add(index)\n"
   ]
  },
  {
   "cell_type": "code",
   "execution_count": 175,
   "metadata": {
    "scrolled": true
   },
   "outputs": [],
   "source": [
    "# Remove the 2 features\n",
    "# 'Recipient_Zip_Code' = index 5\n",
    "# 'Recipient_City' = index 8\n",
    "target_id.remove(5)\n",
    "target_id.remove(9)"
   ]
  },
  {
   "cell_type": "markdown",
   "metadata": {},
   "source": [
    "Re-run the model to test the prediction after removed features"
   ]
  },
  {
   "cell_type": "code",
   "execution_count": 178,
   "metadata": {
    "scrolled": false
   },
   "outputs": [
    {
     "name": "stdout",
     "output_type": "stream",
     "text": [
      "-------test_roc_auc------\n",
      "0.9778755943338912\n",
      "-------test_accuracy------\n",
      "0.9338800668537524\n",
      "-------test_average_precision------\n",
      "0.6686155285344183\n",
      "-------test_f1------\n",
      "0.6069692154425327\n",
      "-------recall------\n",
      "0.947440092946701\n"
     ]
    }
   ],
   "source": [
    "from sklearn.preprocessing import OneHotEncoder\n",
    "from sklearn.model_selection import cross_validate\n",
    "from category_encoders import TargetEncoder\n",
    "from sklearn.compose import ColumnTransformer\n",
    "from sklearn.preprocessing import StandardScaler\n",
    "from sklearn.pipeline import Pipeline\n",
    "from sklearn.impute import SimpleImputer\n",
    "from sklearn.linear_model import LogisticRegression\n",
    "\n",
    "numeric_transformer = Pipeline(steps=[('imputer', SimpleImputer(strategy='mean')),\n",
    "  ('scaler', StandardScaler())])\n",
    "\n",
    "categorical_transformer_target=Pipeline(steps=[\n",
    "    ('imputer', SimpleImputer(strategy='constant', fill_value=-1)),\n",
    "    ('target', TargetEncoder(handle_unknown='impute'))])\n",
    "\n",
    "categorical_transformer_one_hot=Pipeline(steps=[\n",
    "    ('imputer', SimpleImputer(strategy='constant', fill_value=-1)),\n",
    "    ('onehot', OneHotEncoder(handle_unknown='ignore',sparse=False))])\n",
    "\n",
    "\n",
    "\n",
    "continuous=np.array(list(continuous_id))\n",
    "\n",
    "categorical_target=np.array(list(target_id))\n",
    "\n",
    "categorical_one_hot=np.array(list(one_hot_id))\n",
    "\n",
    "\n",
    "preprocessor= ColumnTransformer(\n",
    "    transformers=[\n",
    "        ('num', numeric_transformer,continuous),\n",
    "        ('cat_target', categorical_transformer_target, categorical_target),\n",
    "        ('cat_onehot', categorical_transformer_one_hot, categorical_one_hot)\n",
    "    ])\n",
    "\n",
    "\n",
    "from sklearn.ensemble import RandomForestClassifier\n",
    "\n",
    "clf_RF=make_imb_pipeline(RandomUnderSampler(),preprocessor,RandomForestClassifier(n_estimators=10))\n",
    "\n",
    "X_train.drop([X_train.columns[5],X_train.columns[9]],axis=1)\n",
    "scores = cross_validate(clf_RF,\n",
    "                        X_train, y_train, cv=10,\n",
    "                        scoring=('roc_auc','accuracy','average_precision','recall','f1'))\n",
    "\n",
    "print(\"-------test_roc_auc------\\n\"+str(scores['test_roc_auc'].mean()))\n",
    "print(\"-------test_accuracy------\\n\"+str(scores['test_accuracy'].mean()))\n",
    "print(\"-------test_average_precision------\\n\"+str(scores['test_average_precision'].mean()))\n",
    "print(\"-------test_f1------\\n\"+str(scores['test_f1'].mean()))\n",
    "print(\"-------recall------\\n\"+str(scores['test_recall'].mean()))\n"
   ]
  },
  {
   "cell_type": "raw",
   "metadata": {},
   "source": [
    "Results when no features were removed\n",
    "\n",
    "-------test_roc_auc------\n",
    "0.9824062040241174\n",
    "-------test_accuracy------\n",
    "0.939986838889691\n",
    "-------test_average_precision------\n",
    "0.7091670497684565\n",
    "-------test_f1------\n",
    "0.6296599019344387\n",
    "-------recall------\n",
    "0.9581870824053453\n",
    "\n",
    "On removing 2 features\n",
    "'Recipient_Zip_Code' = index 5\n",
    "'Recipient_City' = index 8\n",
    "\n",
    "-------test_roc_auc------\n",
    "0.9778755943338912\n",
    "-------test_accuracy------\n",
    "0.9338800668537524\n",
    "-------test_average_precision------\n",
    "0.6686155285344183\n",
    "-------test_f1------\n",
    "0.6069692154425327\n",
    "-------recall------\n",
    "0.947440092946701"
   ]
  },
  {
   "cell_type": "markdown",
   "metadata": {},
   "source": [
    "We can notice the Model is behaving very similar and good when compared to origianl model"
   ]
  },
  {
   "cell_type": "markdown",
   "metadata": {},
   "source": [
    "#### 2. Selecting 8 best features"
   ]
  },
  {
   "cell_type": "code",
   "execution_count": 239,
   "metadata": {},
   "outputs": [
    {
     "name": "stdout",
     "output_type": "stream",
     "text": [
      "(84498, 11)\n",
      "(84498, 8)\n"
     ]
    }
   ],
   "source": [
    "from sklearn.feature_selection import SelectKBest, SelectPercentile, SelectFpr\n",
    "# from sklearn.svm import LinearSVC\n",
    "select = SelectKBest(k=8, score_func=f_classif)\n",
    "select.fit(X_train_df, y_train)\n",
    "print(X_train_df.shape)\n",
    "X_train_bestFeat = select.transform(X_train_df)\n",
    "print(X_train_bestFeat.shape)"
   ]
  },
  {
   "cell_type": "code",
   "execution_count": 240,
   "metadata": {},
   "outputs": [
    {
     "data": {
      "text/plain": [
       "array([-5.00712594e-02,  1.70000000e+01,  5.91000000e+02,  6.60000000e+02,\n",
       "        1.25000000e+02,  4.00000000e+00,  2.00000000e+00,  1.00000000e+00])"
      ]
     },
     "execution_count": 240,
     "metadata": {},
     "output_type": "execute_result"
    }
   ],
   "source": [
    "X_train_bestFeat[0]"
   ]
  },
  {
   "cell_type": "code",
   "execution_count": 241,
   "metadata": {},
   "outputs": [
    {
     "data": {
      "text/plain": [
       "array([-5.00712594e-02,  1.70000000e+01,  5.91000000e+02,  7.09100000e+03,\n",
       "        6.60000000e+02,  4.19100000e+03,  1.25000000e+02,  4.00000000e+01,\n",
       "        4.00000000e+00,  2.00000000e+00,  1.00000000e+00])"
      ]
     },
     "execution_count": 241,
     "metadata": {},
     "output_type": "execute_result"
    }
   ],
   "source": [
    "X_train_df[0]"
   ]
  },
  {
   "cell_type": "code",
   "execution_count": 183,
   "metadata": {
    "scrolled": true
   },
   "outputs": [
    {
     "data": {
      "text/plain": [
       "['Recipient_Country',\n",
       " 'Applicable_Manufacturer_or_Applicable_GPO_Making_Payment_Country',\n",
       " 'Form_of_Payment_or_Transfer_of_Value',\n",
       " 'Submitting_Applicable_Manufacturer_or_Applicable_GPO_Name',\n",
       " 'Related_Product_Indicator',\n",
       " 'Recipient_Zip_Code',\n",
       " 'Total_Amount_of_Payment_USDollars',\n",
       " 'Applicable_Manufacturer_or_Applicable_GPO_Making_Payment_Name',\n",
       " 'Recipient_City',\n",
       " 'Applicable_Manufacturer_or_Applicable_GPO_Making_Payment_ID',\n",
       " 'Recipient_State']"
      ]
     },
     "execution_count": 183,
     "metadata": {},
     "output_type": "execute_result"
    }
   ],
   "source": [
    "list(X_train)"
   ]
  },
  {
   "cell_type": "raw",
   "metadata": {},
   "source": [
    "Remove the 3 lower features\n",
    "Submitting_Applicable_Manufacturer_or_Applicable_GPO_Name - index 3\n",
    "Recipient_Zip_Code-index 5\n",
    "Applicable_Manufacturer_or_Applicable_GPO_Making_Payment_Name-index 7"
   ]
  },
  {
   "cell_type": "code",
   "execution_count": 242,
   "metadata": {},
   "outputs": [],
   "source": [
    "target_e=['Recipient_State','Date_of_Payment','Recipient_Zip_Code','Recipient_City','Submitting_Applicable_Manufacturer_or_Applicable_GPO_Name','Applicable_Manufacturer_or_Applicable_GPO_Making_Payment_Name','Applicable_Manufacturer_or_Applicable_GPO_Making_Payment_Country','Applicable_Manufacturer_or_Applicable_GPO_Making_Payment_ID']\n",
    "continuous=['Total_Amount_of_Payment_USDollars']\n",
    "one_hot=set(X_train)-set(target_e)-set(continuous)\n",
    "target_e={'Recipient_State','Date_of_Payment','Recipient_Zip_Code','Recipient_City','Submitting_Applicable_Manufacturer_or_Applicable_GPO_Name','Applicable_Manufacturer_or_Applicable_GPO_Making_Payment_Name','Applicable_Manufacturer_or_Applicable_GPO_Making_Payment_Country','Applicable_Manufacturer_or_Applicable_GPO_Making_Payment_ID'}\n",
    "continuous={'Total_Amount_of_Payment_USDollars'}\n",
    "one_hot=set(X_train)-target_e-continuous\n",
    "\n",
    "target_id=set()\n",
    "one_hot_id=set()\n",
    "continuous_id=set()\n",
    "for index, value in enumerate(list(X_train)):\n",
    "    if value in target_e:\n",
    "        target_id.add(index)\n",
    "    elif value in one_hot:\n",
    "        one_hot_id.add(index)\n",
    "    else:\n",
    "        continuous_id.add(index)\n"
   ]
  },
  {
   "cell_type": "code",
   "execution_count": 245,
   "metadata": {},
   "outputs": [],
   "source": [
    "# Remove the 3 features\n",
    "# 'Submitting_Applicable_Manufacturer_or_Applicable_GPO_Name' - index 3\n",
    "# Recipient_Zip_Code'-index 5\n",
    "# 'Applicable_Manufacturer_or_Applicable_GPO_Making_Payment_Name'-index 7\n",
    "target_id.remove(5)\n",
    "target_id.remove(3)\n",
    "target_id.remove(7)\n"
   ]
  },
  {
   "cell_type": "markdown",
   "metadata": {},
   "source": [
    "Re-run the model with removed features"
   ]
  },
  {
   "cell_type": "code",
   "execution_count": 247,
   "metadata": {},
   "outputs": [
    {
     "name": "stdout",
     "output_type": "stream",
     "text": [
      "-------test_roc_auc------\n",
      "0.970713828498557\n",
      "-------test_accuracy------\n",
      "0.9252408286897367\n",
      "-------test_average_precision------\n",
      "0.5935454046411837\n",
      "-------test_f1------\n",
      "0.574954727380522\n",
      "-------recall------\n",
      "0.9384203901825048\n"
     ]
    }
   ],
   "source": [
    "from sklearn.preprocessing import OneHotEncoder\n",
    "from sklearn.model_selection import cross_validate\n",
    "from category_encoders import TargetEncoder\n",
    "from sklearn.compose import ColumnTransformer\n",
    "from sklearn.preprocessing import StandardScaler\n",
    "from sklearn.pipeline import Pipeline\n",
    "from sklearn.impute import SimpleImputer\n",
    "from sklearn.linear_model import LogisticRegression\n",
    "\n",
    "numeric_transformer = Pipeline(steps=[('imputer', SimpleImputer(strategy='mean')),\n",
    "  ('scaler', StandardScaler())])\n",
    "\n",
    "categorical_transformer_target=Pipeline(steps=[\n",
    "    ('imputer', SimpleImputer(strategy='constant', fill_value=-1)),\n",
    "    ('target', TargetEncoder(handle_unknown='impute'))])\n",
    "\n",
    "categorical_transformer_one_hot=Pipeline(steps=[\n",
    "    ('imputer', SimpleImputer(strategy='constant', fill_value=-1)),\n",
    "    ('onehot', OneHotEncoder(handle_unknown='ignore',sparse=False))])\n",
    "\n",
    "\n",
    "\n",
    "continuous=np.array(list(continuous_id))\n",
    "\n",
    "categorical_target=np.array(list(target_id))\n",
    "\n",
    "categorical_one_hot=np.array(list(one_hot_id))\n",
    "\n",
    "\n",
    "preprocessor= ColumnTransformer(\n",
    "    transformers=[\n",
    "        ('num', numeric_transformer,continuous),\n",
    "        ('cat_target', categorical_transformer_target, categorical_target),\n",
    "        ('cat_onehot', categorical_transformer_one_hot, categorical_one_hot)\n",
    "    ])\n",
    "\n",
    "\n",
    "from sklearn.ensemble import RandomForestClassifier\n",
    "\n",
    "clf_RF=make_imb_pipeline(RandomUnderSampler(),preprocessor,RandomForestClassifier(n_estimators=10))\n",
    "\n",
    "X_train.drop([X_train.columns[3],X_train.columns[5],X_train.columns[7]],axis=1)\n",
    "scores = cross_validate(clf_RF,\n",
    "                        X_train, y_train, cv=10,\n",
    "                        scoring=('roc_auc','accuracy','average_precision','recall','f1'))\n",
    "\n",
    "print(\"-------test_roc_auc------\\n\"+str(scores['test_roc_auc'].mean()))\n",
    "print(\"-------test_accuracy------\\n\"+str(scores['test_accuracy'].mean()))\n",
    "print(\"-------test_average_precision------\\n\"+str(scores['test_average_precision'].mean()))\n",
    "print(\"-------test_f1------\\n\"+str(scores['test_f1'].mean()))\n",
    "print(\"-------recall------\\n\"+str(scores['test_recall'].mean()))\n"
   ]
  },
  {
   "cell_type": "raw",
   "metadata": {},
   "source": [
    "On removing 3 features \n",
    "Submitting_Applicable_Manufacturer_or_Applicable_GPO_Name - index 3\n",
    "Recipient_Zip_Code -index 5\n",
    "Applicable_Manufacturer_or_Applicable_GPO_Making_Payment_Name -index 7\n",
    "\n",
    "Our model is still doing good\n",
    "\n",
    "-------test_roc_auc------\n",
    "0.970713828498557\n",
    "-------test_accuracy------\n",
    "0.9252408286897367\n",
    "-------test_average_precision------\n",
    "0.5935454046411837\n",
    "-------test_f1------\n",
    "0.574954727380522\n",
    "-------recall------\n",
    "0.9384203901825048\n",
    "\n",
    "original performance when no features were removed\n",
    "\n",
    "-------test_roc_auc------\n",
    "0.9824062040241174\n",
    "-------test_accuracy------\n",
    "0.939986838889691\n",
    "-------test_average_precision------\n",
    "0.7091670497684565\n",
    "-------test_f1------\n",
    "0.6296599019344387\n",
    "-------recall------\n",
    "0.9581870824053453\n"
   ]
  },
  {
   "cell_type": "markdown",
   "metadata": {},
   "source": [
    "### Mutual Information "
   ]
  },
  {
   "cell_type": "code",
   "execution_count": 193,
   "metadata": {},
   "outputs": [],
   "source": [
    "from sklearn.feature_selection import mutual_info_classif\n",
    "score_mi=mutual_info_classif(X_train_df, y_train, discrete_features='auto', n_neighbors=1, copy=True, random_state=None)\n"
   ]
  },
  {
   "cell_type": "markdown",
   "metadata": {},
   "source": [
    "features in order of prioirty from high to low"
   ]
  },
  {
   "cell_type": "code",
   "execution_count": 194,
   "metadata": {
    "scrolled": true
   },
   "outputs": [
    {
     "data": {
      "text/plain": [
       "['Recipient_Country',\n",
       " 'Related_Product_Indicator',\n",
       " 'Total_Amount_of_Payment_USDollars',\n",
       " 'Submitting_Applicable_Manufacturer_or_Applicable_GPO_Name',\n",
       " 'Form_of_Payment_or_Transfer_of_Value',\n",
       " 'Recipient_Zip_Code',\n",
       " 'Applicable_Manufacturer_or_Applicable_GPO_Making_Payment_ID',\n",
       " 'Applicable_Manufacturer_or_Applicable_GPO_Making_Payment_Name',\n",
       " 'Recipient_State',\n",
       " 'Recipient_City',\n",
       " 'Applicable_Manufacturer_or_Applicable_GPO_Making_Payment_Country']"
      ]
     },
     "execution_count": 194,
     "metadata": {},
     "output_type": "execute_result"
    }
   ],
   "source": [
    "[list(X_train)[i] for i in list(np.argsort(score_mi)[::-1])]"
   ]
  },
  {
   "cell_type": "code",
   "execution_count": 198,
   "metadata": {},
   "outputs": [],
   "source": [
    "from sklearn.feature_selection import f_classif\n",
    "f_values, p_values = f_classif(X_train, y_train)"
   ]
  },
  {
   "cell_type": "code",
   "execution_count": 199,
   "metadata": {},
   "outputs": [
    {
     "data": {
      "text/plain": [
       "<matplotlib.legend.Legend at 0x1a76efb978>"
      ]
     },
     "execution_count": 199,
     "metadata": {},
     "output_type": "execute_result"
    },
    {
     "data": {
      "image/png": "[encoded data removed]",
      "text/plain": [
       "<Figure size 1080x360 with 2 Axes>"
      ]
     },
     "metadata": {
      "needs_background": "light"
     },
     "output_type": "display_data"
    }
   ],
   "source": [
    "fig, ax1 = plt.subplots(1, 1)\n",
    "fig.set_size_inches(15,5)\n",
    "line_f, = ax1.plot(f_values, 'o', c='r')\n",
    "# plt.ylabel(\"F value\")\n",
    "ax2 = plt.twinx()\n",
    "line_s, = ax2.plot(score_mi, 'o', alpha=.7)\n",
    "ax2.set_ylabel(\"MI score\")\n",
    "ax1.set_xticks(range(len(list(X_train))))\n",
    "ax1.set_xticklabels(list(X_train),rotation='vertical');\n",
    "ax1.set_ylabel('F value')\n",
    "ax1.set_ylim(0,500)\n",
    "plt.legend([line_s, line_f], [\"Mutual info scores\", \"F values\"], loc=(0, 1))"
   ]
  },
  {
   "cell_type": "raw",
   "metadata": {},
   "source": [
    "We can compare features from their mutual information and f-value graph as well. \n",
    "We know that a higher f-value and higher mutual information value gives a good feature. \n",
    "\n",
    "We can see 'Total_Amount_of_Payment_USDollars','Applicable_Manufacturer_or_Applicable_GPO_Making_Payment_ID',\n",
    "'Related_Product_Indicator','Applicable_Manufacturer_or_Applicable_GPO_Making_Payment_Country' are all good features.\n",
    "[The f-value cant be seen on the graph due to ylimit, but it mean the f-value is very high] \n",
    "\n",
    "\n",
    "Whereas Recipient_state, Submitting_Applicable_Manufacturer_or_Applicable_GPO_Name, Recipient_zip_code\n",
    "have low f-values, indicating bad features.\n",
    "\n",
    "\n",
    "We had obtained similar result from other analysis as well, hence it save to say that the bad features can be removed without impacting the model a lot"
   ]
  },
  {
   "cell_type": "markdown",
   "metadata": {},
   "source": [
    "# Task 6 \n",
    "\n",
    "An explainable model\n",
    "Can you create an “explainable” model that is nearly as good as your best model?\n",
    "An explainable model should be small enough to be easily inspected - say a linear model with\n",
    "few enough coefficients that you can reasonable look at all of them, or a tree with a small\n",
    "number of leafs etc."
   ]
  },
  {
   "cell_type": "markdown",
   "metadata": {},
   "source": [
    "### Trying to simplify our best model Random Forest further"
   ]
  },
  {
   "cell_type": "raw",
   "metadata": {},
   "source": [
    "To get a simple model we are removing features which are not important , \n",
    "Also simplifying other paramteres like:\n",
    "1. Reducing n_Estimators from 10 to 3 \n",
    "2. Setting max_depth = 5 for Random Forest"
   ]
  },
  {
   "cell_type": "markdown",
   "metadata": {},
   "source": [
    "Remove features first"
   ]
  },
  {
   "cell_type": "code",
   "execution_count": 263,
   "metadata": {},
   "outputs": [],
   "source": [
    "target_e=['Recipient_State','Date_of_Payment','Recipient_Zip_Code','Recipient_City','Submitting_Applicable_Manufacturer_or_Applicable_GPO_Name','Applicable_Manufacturer_or_Applicable_GPO_Making_Payment_Name','Applicable_Manufacturer_or_Applicable_GPO_Making_Payment_Country','Applicable_Manufacturer_or_Applicable_GPO_Making_Payment_ID']\n",
    "continuous=['Total_Amount_of_Payment_USDollars']\n",
    "one_hot=set(X_train)-set(target_e)-set(continuous)\n",
    "target_e={'Recipient_State','Date_of_Payment','Recipient_Zip_Code','Recipient_City','Submitting_Applicable_Manufacturer_or_Applicable_GPO_Name','Applicable_Manufacturer_or_Applicable_GPO_Making_Payment_Name','Applicable_Manufacturer_or_Applicable_GPO_Making_Payment_Country','Applicable_Manufacturer_or_Applicable_GPO_Making_Payment_ID'}\n",
    "continuous={'Total_Amount_of_Payment_USDollars'}\n",
    "one_hot=set(X_train)-target_e-continuous\n",
    "\n",
    "target_id=set()\n",
    "one_hot_id=set()\n",
    "continuous_id=set()\n",
    "for index, value in enumerate(list(X_train)):\n",
    "    if value in target_e:\n",
    "        target_id.add(index)\n",
    "    elif value in one_hot:\n",
    "        one_hot_id.add(index)\n",
    "    else:\n",
    "        continuous_id.add(index)\n",
    "\n",
    "#  Removing features    Submitting_Applicable_Manufacturer_or_Applicable_GPO_Name,Recipient_Zip_Code,Recipient_State,      \n",
    "target_id.remove(10)\n",
    "target_id.remove(3)\n",
    "target_id.remove(5)\n"
   ]
  },
  {
   "cell_type": "code",
   "execution_count": 268,
   "metadata": {
    "scrolled": false
   },
   "outputs": [
    {
     "name": "stdout",
     "output_type": "stream",
     "text": [
      "-------test_roc_auc------\n",
      "0.9612235900282435\n",
      "-------test_accuracy------\n",
      "0.9041867450086846\n",
      "-------test_average_precision------\n",
      "0.5837023894902555\n",
      "-------test_f1------\n",
      "0.5129376524008925\n",
      "-------recall------\n",
      "0.9331413080311759\n"
     ]
    }
   ],
   "source": [
    "from sklearn.preprocessing import OneHotEncoder\n",
    "from sklearn.model_selection import cross_validate\n",
    "from category_encoders import TargetEncoder\n",
    "from sklearn.compose import ColumnTransformer\n",
    "from sklearn.preprocessing import StandardScaler\n",
    "from sklearn.pipeline import Pipeline\n",
    "from sklearn.impute import SimpleImputer\n",
    "from sklearn.linear_model import LogisticRegression\n",
    "\n",
    "numeric_transformer = Pipeline(steps=[('imputer', SimpleImputer(strategy='mean')),\n",
    "  ('scaler', StandardScaler())])\n",
    "\n",
    "categorical_transformer_target=Pipeline(steps=[\n",
    "    ('imputer', SimpleImputer(strategy='constant', fill_value=-1)),\n",
    "    ('target', TargetEncoder(handle_unknown='impute'))])\n",
    "\n",
    "categorical_transformer_one_hot=Pipeline(steps=[\n",
    "    ('imputer', SimpleImputer(strategy='constant', fill_value=-1)),\n",
    "    ('onehot', OneHotEncoder(handle_unknown='ignore',sparse=False))])\n",
    "\n",
    "\n",
    "\n",
    "continuous=np.array(list(continuous_id))\n",
    "\n",
    "categorical_target=np.array(list(target_id))\n",
    "\n",
    "categorical_one_hot=np.array(list(one_hot_id))\n",
    "\n",
    "\n",
    "preprocessor= ColumnTransformer(\n",
    "    transformers=[\n",
    "        ('num', numeric_transformer,continuous),\n",
    "        ('cat_target', categorical_transformer_target, categorical_target),\n",
    "        ('cat_onehot', categorical_transformer_one_hot, categorical_one_hot)\n",
    "    ])\n",
    "\n",
    "\n",
    "from sklearn.ensemble import RandomForestClassifier\n",
    "\n",
    "clf_RF=make_imb_pipeline(RandomUnderSampler(),preprocessor,RandomForestClassifier(n_estimators=3,max_depth=6))\n",
    "\n",
    "X_train.drop([X_train.columns[3],X_train.columns[10],X_train.columns[5]],axis=1)\n",
    "scores = cross_validate(clf_RF,\n",
    "                        X_train, y_train, cv=10,\n",
    "                        scoring=('roc_auc','accuracy','average_precision','recall','f1'))\n",
    "\n",
    "print(\"-------test_roc_auc------\\n\"+str(scores['test_roc_auc'].mean()))\n",
    "print(\"-------test_accuracy------\\n\"+str(scores['test_accuracy'].mean()))\n",
    "print(\"-------test_average_precision------\\n\"+str(scores['test_average_precision'].mean()))\n",
    "print(\"-------test_f1------\\n\"+str(scores['test_f1'].mean()))\n",
    "print(\"-------recall------\\n\"+str(scores['test_recall'].mean()))\n"
   ]
  },
  {
   "cell_type": "raw",
   "metadata": {},
   "source": [
    "After simplifying the model with n_Estimator as low as 3 and max_Depth as 5, we get an estimate where recall is still v high but precision is compromised by 0.2-0.1 margin\n",
    "\n",
    "This model can be deemed as very simple as there are only 3 trees and max depth is only 6. \n",
    "This model can be visualized easily and should be easy to interpret"
   ]
  }
 ],
 "metadata": {
  "kernelspec": {
   "display_name": "Python 3",
   "language": "python",
   "name": "python3"
  },
  "language_info": {
   "codemirror_mode": {
    "name": "ipython",
    "version": 3
   },
   "file_extension": ".py",
   "mimetype": "text/x-python",
   "name": "python",
   "nbconvert_exporter": "python",
   "pygments_lexer": "ipython3",
   "version": "3.7.2"
  }
 },
 "nbformat": 4,
 "nbformat_minor": 2
}
