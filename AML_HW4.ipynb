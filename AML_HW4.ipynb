{
 "cells": [
  {
   "cell_type": "markdown",
   "metadata": {},
   "source": [
    "## 1.1 Create a baseline model using a bag-of-words approach and a linear model."
   ]
  },
  {
   "cell_type": "code",
   "execution_count": 1,
   "metadata": {},
   "outputs": [],
   "source": [
    "import warnings\n",
    "warnings.filterwarnings('ignore')\n",
    "import pandas as pd "
   ]
  },
  {
   "cell_type": "code",
   "execution_count": 5,
   "metadata": {},
   "outputs": [],
   "source": [
    "test_df=pd.read_csv(\"reddit_200k_test.csv\",usecols=['body','REMOVED'],engine='python')\n",
    "train_df=pd.read_csv(\"reddit_200k_train.csv\",usecols=['body','REMOVED'],engine='python')  \n",
    "\n",
    "train_y=train_df[\"REMOVED\"].replace(to_replace={True: 1,False:0}, value=None, method=None)\n",
    "test_y=test_df[\"REMOVED\"].replace(to_replace={True: 1,False:0}, value=None, method=None)\n",
    "\n",
    "train_x=list(train_df[\"body\"])\n",
    "test_x=list(test_df[\"body\"])"
   ]
  },
  {
   "cell_type": "code",
   "execution_count": 43,
   "metadata": {},
   "outputs": [
    {
     "name": "stdout",
     "output_type": "stream",
     "text": [
      "Postive examples:64738\n",
      "Negative examples:102791\n"
     ]
    }
   ],
   "source": [
    "print(\"Postive examples:{}\".format(train_df[\"REMOVED\"].sum()))\n",
    "print(\"Negative examples:{}\".format(len(train_df[\"REMOVED\"])-train_df[\"REMOVED\"].sum()))"
   ]
  },
  {
   "cell_type": "markdown",
   "metadata": {},
   "source": [
    "### Bags of words Baseline "
   ]
  },
  {
   "cell_type": "code",
   "execution_count": 47,
   "metadata": {},
   "outputs": [
    {
     "name": "stdout",
     "output_type": "stream",
     "text": [
      "train x:\n",
      "(167529, 109821)\n",
      "test x:\n",
      "(55843, 109821)\n"
     ]
    }
   ],
   "source": [
    "from sklearn.pipeline import Pipeline\n",
    "from sklearn.feature_extraction.text import CountVectorizer\n",
    "count_vect = CountVectorizer(stop_words='english')\n",
    "X_train_counts = count_vect.fit_transform(train_x)\n",
    "X_test_counts= count_vect.transform(test_x)\n",
    "print(\"X_train_counts:\")\n",
    "print(X_train_counts.shape)\n",
    "print(\"X_test_counts:\")\n",
    "print(X_test_counts.shape)"
   ]
  },
  {
   "cell_type": "code",
   "execution_count": 62,
   "metadata": {},
   "outputs": [
    {
     "data": {
      "text/plain": [
       "['ve',\n",
       " 'taught',\n",
       " 'emerged',\n",
       " 'earth',\n",
       " 'impace',\n",
       " 'similar',\n",
       " 'elemental',\n",
       " 'distribution',\n",
       " 'ece',\n",
       " 'feeling',\n",
       " 'hey',\n",
       " 'thought',\n",
       " 'times',\n",
       " 'workers',\n",
       " 'couldn',\n",
       " 'write',\n",
       " 'simple',\n",
       " 'message',\n",
       " 'communication',\n",
       " 'book']"
      ]
     },
     "execution_count": 62,
     "metadata": {},
     "output_type": "execute_result"
    }
   ],
   "source": [
    "list(count_vect.vocabulary_)[:20]"
   ]
  },
  {
   "cell_type": "code",
   "execution_count": 77,
   "metadata": {},
   "outputs": [
    {
     "name": "stdout",
     "output_type": "stream",
     "text": [
      "-------test_roc_auc------\n",
      "0.7221142098110398\n",
      "-------test_accuracy------\n",
      "0.6494398116202424\n",
      "-------test_average_precision------\n",
      "0.5735917078855447\n",
      "-------test_f1------\n",
      "0.6195622928391454\n",
      "-------recall------\n",
      "0.738715939946073\n"
     ]
    }
   ],
   "source": [
    "from imblearn.pipeline import make_pipeline as make_imb_pipeline\n",
    "from imblearn.under_sampling import RandomUnderSampler\n",
    "from sklearn.linear_model import LogisticRegression\n",
    "from sklearn.model_selection import cross_validate\n",
    "undersample_pipe_lr = make_imb_pipeline(CountVectorizer(stop_words='english'),RandomUnderSampler(), LogisticRegression())\n",
    "scores = cross_validate(undersample_pipe_lr,\n",
    "                        train_x, train_y, cv=10,\n",
    "                        scoring=('roc_auc','accuracy','average_precision','recall','f1'))\n",
    "print(\"-------test_roc_auc------\\n\"+str(scores['test_roc_auc'].mean()))\n",
    "print(\"-------test_accuracy------\\n\"+str(scores['test_accuracy'].mean()))\n",
    "print(\"-------test_average_precision------\\n\"+str(scores['test_average_precision'].mean()))\n",
    "print(\"-------test_f1------\\n\"+str(scores['test_f1'].mean()))\n",
    "print(\"-------recall------\\n\"+str(scores['test_recall'].mean()))"
   ]
  },
  {
   "cell_type": "code",
   "execution_count": 88,
   "metadata": {},
   "outputs": [],
   "source": [
    "## Tune Parameters\n",
    "from sklearn.model_selection import GridSearchCV\n",
    "parameters = {}\n",
    "param_grid = {'countvectorizer__max_features': [10000,20000,30000,40000,50000]}\n",
    "CV_lr = GridSearchCV(undersample_pipe_lr, param_grid, scoring = 'average_precision',cv=5)\n",
    "CV_lr.fit(train_x, train_y)   \n",
    "L=len(CV_lr.cv_results_['param_countvectorizer__max_features'])"
   ]
  },
  {
   "cell_type": "code",
   "execution_count": 89,
   "metadata": {},
   "outputs": [
    {
     "data": {
      "text/plain": [
       "<matplotlib.legend.Legend at 0x1b47e9eef0>"
      ]
     },
     "execution_count": 89,
     "metadata": {},
     "output_type": "execute_result"
    },
    {
     "data": {
      "image/png": "[encoded data removed]",
      "text/plain": [
       "<Figure size 720x360 with 1 Axes>"
      ]
     },
     "metadata": {
      "needs_background": "light"
     },
     "output_type": "display_data"
    }
   ],
   "source": [
    "import matplotlib.pyplot as plt\n",
    "plt.figure(figsize=(10,5))\n",
    "plt.plot(CV_lr.cv_results_['param_countvectorizer__max_features'].data, CV_lr.cv_results_ [\"mean_test_score\"],label=\"Gridsearch\")\n",
    "#plt.plot(CV_R.cv_results_[\"param_Ridge__alpha\"].data,[0.863]*L,\"red\",label=\"base\")\n",
    "plt.title(\"LR__max_features\")\n",
    "plt.xlabel(\"max_features\")\n",
    "plt.ylabel(\"accuracy\")\n",
    "plt.legend()"
   ]
  },
  {
   "cell_type": "markdown",
   "metadata": {},
   "source": [
    "### Comment:\n",
    "Observing the plot above, we can see expanding the corpus does not help improve the performance of model idealy. To avoid overfitting, we will use 10000 as max_features."
   ]
  },
  {
   "cell_type": "code",
   "execution_count": 90,
   "metadata": {},
   "outputs": [
    {
     "name": "stdout",
     "output_type": "stream",
     "text": [
      "-------test_roc_auc------\n",
      "0.7210723877425687\n",
      "-------test_accuracy------\n",
      "0.6488787515770919\n",
      "-------test_average_precision------\n",
      "0.5724942012099795\n",
      "-------test_f1------\n",
      "0.6197322711647735\n",
      "-------recall------\n",
      "0.7404152277985011\n"
     ]
    }
   ],
   "source": [
    "scores = cross_validate(CV_lr.best_estimator_,\n",
    "                        train_x, train_y, cv=10,\n",
    "                        scoring=('roc_auc','accuracy','average_precision','recall','f1'))\n",
    "print(\"-------test_roc_auc------\\n\"+str(scores['test_roc_auc'].mean()))\n",
    "print(\"-------test_accuracy------\\n\"+str(scores['test_accuracy'].mean()))\n",
    "print(\"-------test_average_precision------\\n\"+str(scores['test_average_precision'].mean()))\n",
    "print(\"-------test_f1------\\n\"+str(scores['test_f1'].mean()))\n",
    "print(\"-------recall------\\n\"+str(scores['test_recall'].mean()))"
   ]
  },
  {
   "cell_type": "markdown",
   "metadata": {},
   "source": [
    "### 1.2 Try using n-grams, characters, tf-idf rescaling and possibly other ways to tune the BoW model. Be aware that you might need to adjust the (regularization of the) linear model for different feature sets."
   ]
  },
  {
   "cell_type": "markdown",
   "metadata": {},
   "source": [
    "### TFIDF "
   ]
  },
  {
   "cell_type": "code",
   "execution_count": 91,
   "metadata": {},
   "outputs": [
    {
     "name": "stdout",
     "output_type": "stream",
     "text": [
      "-------test_roc_auc------\n",
      "0.7480764869600759\n",
      "-------test_accuracy------\n",
      "0.6724865730406507\n",
      "-------test_average_precision------\n",
      "0.6206092423240731\n",
      "-------test_f1------\n",
      "0.6308598586187766\n",
      "-------recall------\n",
      "0.7242113709087737\n"
     ]
    }
   ],
   "source": [
    "from imblearn.pipeline import make_pipeline as make_imb_pipeline\n",
    "from imblearn.under_sampling import RandomUnderSampler\n",
    "from sklearn.linear_model import LogisticRegression\n",
    "from sklearn.feature_extraction.text import TfidfTransformer\n",
    "from sklearn.model_selection import cross_validate\n",
    "undersample_pipe_lr = make_imb_pipeline(CountVectorizer(stop_words='english',max_features=10000),TfidfTransformer(),RandomUnderSampler(),LogisticRegression())\n",
    "scores = cross_validate(undersample_pipe_lr,\n",
    "                        train_x, train_y, cv=10,\n",
    "                        scoring=('roc_auc','accuracy','average_precision','recall','f1'))\n",
    "print(\"-------test_roc_auc------\\n\"+str(scores['test_roc_auc'].mean()))\n",
    "print(\"-------test_accuracy------\\n\"+str(scores['test_accuracy'].mean()))\n",
    "print(\"-------test_average_precision------\\n\"+str(scores['test_average_precision'].mean()))\n",
    "print(\"-------test_f1------\\n\"+str(scores['test_f1'].mean()))\n",
    "print(\"-------recall------\\n\"+str(scores['test_recall'].mean()))"
   ]
  },
  {
   "cell_type": "markdown",
   "metadata": {},
   "source": [
    "### n-grams"
   ]
  },
  {
   "cell_type": "code",
   "execution_count": 93,
   "metadata": {},
   "outputs": [
    {
     "name": "stdout",
     "output_type": "stream",
     "text": [
      "-------test_roc_auc------\n",
      "0.7183838661616452\n",
      "-------test_accuracy------\n",
      "0.6446346881910389\n",
      "-------test_average_precision------\n",
      "0.5677638957388668\n",
      "-------test_f1------\n",
      "0.6201268273285395\n",
      "-------recall------\n",
      "0.7506100409672058\n"
     ]
    }
   ],
   "source": [
    "undersample_pipe_lr = make_imb_pipeline(CountVectorizer(stop_words='english',max_features=10000,ngram_range=(1,2)),RandomUnderSampler(),LogisticRegression())\n",
    "scores = cross_validate(undersample_pipe_lr,\n",
    "                        train_x, train_y, cv=10,\n",
    "                        scoring=('roc_auc','accuracy','average_precision','recall','f1'))\n",
    "print(\"-------test_roc_auc------\\n\"+str(scores['test_roc_auc'].mean()))\n",
    "print(\"-------test_accuracy------\\n\"+str(scores['test_accuracy'].mean()))\n",
    "print(\"-------test_average_precision------\\n\"+str(scores['test_average_precision'].mean()))\n",
    "print(\"-------test_f1------\\n\"+str(scores['test_f1'].mean()))\n",
    "print(\"-------recall------\\n\"+str(scores['test_recall'].mean()))"
   ]
  },
  {
   "cell_type": "markdown",
   "metadata": {},
   "source": [
    "### character"
   ]
  },
  {
   "cell_type": "code",
   "execution_count": null,
   "metadata": {},
   "outputs": [],
   "source": []
  }
 ],
 "metadata": {
  "kernelspec": {
   "display_name": "Python 3",
   "language": "python",
   "name": "python3"
  },
  "language_info": {
   "codemirror_mode": {
    "name": "ipython",
    "version": 3
   },
   "file_extension": ".py",
   "mimetype": "text/x-python",
   "name": "python",
   "nbconvert_exporter": "python",
   "pygments_lexer": "ipython3",
   "version": "3.7.2"
  }
 },
 "nbformat": 4,
 "nbformat_minor": 2
}
